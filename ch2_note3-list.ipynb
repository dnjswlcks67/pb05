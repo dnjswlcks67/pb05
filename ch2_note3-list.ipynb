{
 "metadata": {
  "language_info": {
   "codemirror_mode": {
    "name": "ipython",
    "version": 3
   },
   "file_extension": ".py",
   "mimetype": "text/x-python",
   "name": "python",
   "nbconvert_exporter": "python",
   "pygments_lexer": "ipython3",
   "version": "3.9.2"
  },
  "orig_nbformat": 2,
  "kernelspec": {
   "name": "python3",
   "display_name": "Python 3.9.2 64-bit",
   "metadata": {
    "interpreter": {
     "hash": "63fd5069d213b44bf678585dea6b12cceca9941eaf7f819626cde1f2670de90d"
    }
   }
  }
 },
 "nbformat": 4,
 "nbformat_minor": 2,
 "cells": [
  {
   "source": [
    "## ch2-note3-list.ipynb by PB05 "
   ],
   "cell_type": "markdown",
   "metadata": {}
  },
  {
   "source": [
    "## list 란?"
   ],
   "cell_type": "markdown",
   "metadata": {}
  },
  {
   "cell_type": "code",
   "execution_count": 2,
   "metadata": {},
   "outputs": [
    {
     "output_type": "stream",
     "name": "stdout",
     "text": [
      "[1, 3, 5, 7, 9]\n[1, 2, 3]\n['Life', 'is', 'too', 'short']\n[1, 2, 'Life', 'is']\n[1, 2, ['Life', 'is']]\n"
     ]
    }
   ],
   "source": [
    "odd = [1, 3, 5, 7, 9]\n",
    "print(odd)\n",
    "# 여러 가지 리스트\n",
    "a = []   # list 초기화\n",
    "b = [1, 2, 3]\n",
    "print(b)\n",
    "c = ['Life', 'is', 'too', 'short']\n",
    "print(c)\n",
    "d = [1, 2, 'Life', 'is']\n",
    "print(d)\n",
    "e = [1, 2, ['Life', 'is']]\n",
    "print(e)"
   ]
  },
  {
   "cell_type": "code",
   "execution_count": 3,
   "metadata": {},
   "outputs": [
    {
     "output_type": "execute_result",
     "data": {
      "text/plain": [
       "[]"
      ]
     },
     "metadata": {},
     "execution_count": 3
    }
   ],
   "source": [
    "# list 초기화\n",
    "a = list()\n",
    "a   # []"
   ]
  },
  {
   "cell_type": "code",
   "execution_count": 9,
   "metadata": {},
   "outputs": [
    {
     "output_type": "stream",
     "name": "stdout",
     "text": [
      "리스트: 리스트의 인덱싱과 슬라이싱\n1\n4\n3\n1\n['a', 'b', 'c']\n['a', 'b', 'c']\n"
     ]
    }
   ],
   "source": [
    "print(\"리스트: 리스트의 인덱싱과 슬라이싱\")\n",
    "a = [1, 2, 3]\n",
    "a\n",
    "print(a[0])\n",
    "print(a[0]+a[2])\n",
    "print(a[-1])\n",
    "#\n",
    "a = [1, 2, 3, ['a', 'b', 'c']]\n",
    "print(a[0])\n",
    "print(a[3])\n",
    "print(a[-1])"
   ]
  },
  {
   "cell_type": "code",
   "execution_count": 8,
   "metadata": {},
   "outputs": [
    {
     "output_type": "error",
     "ename": "IndexError",
     "evalue": "list index out of range",
     "traceback": [
      "\u001b[1;31m---------------------------------------------------------------------------\u001b[0m",
      "\u001b[1;31mIndexError\u001b[0m                                Traceback (most recent call last)",
      "\u001b[1;32m<ipython-input-8-5451d47c444b>\u001b[0m in \u001b[0;36m<module>\u001b[1;34m\u001b[0m\n\u001b[1;32m----> 1\u001b[1;33m \u001b[0mprint\u001b[0m\u001b[1;33m(\u001b[0m\u001b[0ma\u001b[0m\u001b[1;33m[\u001b[0m\u001b[1;36m3\u001b[0m\u001b[1;33m]\u001b[0m\u001b[1;33m)\u001b[0m\u001b[1;33m\u001b[0m\u001b[1;33m\u001b[0m\u001b[0m\n\u001b[0m",
      "\u001b[1;31mIndexError\u001b[0m: list index out of range"
     ]
    }
   ],
   "source": [
    "print(a[3])"
   ]
  },
  {
   "cell_type": "code",
   "execution_count": 10,
   "metadata": {},
   "outputs": [
    {
     "output_type": "stream",
     "name": "stdout",
     "text": [
      "a\nc\n"
     ]
    }
   ],
   "source": [
    "# chaek this: a[0] + a[-1] -> TypeError\n",
    "# Indexing inner list\n",
    "print(a[-1][0])\n",
    "print(a[-1][-1])"
   ]
  },
  {
   "cell_type": "code",
   "execution_count": 11,
   "metadata": {},
   "outputs": [
    {
     "output_type": "stream",
     "name": "stdout",
     "text": [
      "['a', 'b', ['Life', 'is']]\n['Life', 'is']\nLife\n"
     ]
    }
   ],
   "source": [
    "# Indexing of triple list\n",
    "# 삼중 리스트에서 인덱싱하기\n",
    "a = [1, 2, ['a', 'b', ['Life', 'is']]]\n",
    "print(a[2])\n",
    "print(a[2][-1])\n",
    "print(a[2][-1][0])   # 'Life'"
   ]
  },
  {
   "cell_type": "code",
   "execution_count": 12,
   "metadata": {},
   "outputs": [
    {
     "output_type": "stream",
     "name": "stdout",
     "text": [
      "[1, 2]\n12\n[1, 2]\n[3, 4, 5]\n[1, 3]\n"
     ]
    }
   ],
   "source": [
    "# 리스트의 슬라이싱\n",
    "a = [1, 2, 3, 4, 5]\n",
    "print(a[0:2])\n",
    "a = \"12345\"\n",
    "print(a[0:2])\n",
    "#\n",
    "a = [1, 2, 3, 4, 5]\n",
    "print(a[0:2])\n",
    "print(a[2:])\n",
    "print(a[0:4:2])  # a[start:end:step] "
   ]
  },
  {
   "cell_type": "code",
   "execution_count": 13,
   "metadata": {},
   "outputs": [
    {
     "output_type": "stream",
     "name": "stdout",
     "text": [
      "[3, ['a', 'b', 'c'], 4]\n['a', 'b']\n"
     ]
    }
   ],
   "source": [
    "# 중첩된 리스트에서 슬라이싱하기\n",
    "#\n",
    "a = [1, 2, 3, ['a', 'b', 'c'], 4, 5]\n",
    "print(a[2:5])\n",
    "print(a[3][:2])"
   ]
  },
  {
   "cell_type": "code",
   "execution_count": 14,
   "metadata": {},
   "outputs": [
    {
     "output_type": "stream",
     "name": "stdout",
     "text": [
      "[1, 2, 3]\n[4, 5, 6, 7, 8, 9]\n[1, 2, 3, 4, 5, 6]\n[1, 3, 5]\n9\n7\n[1, 2, 3, 4, 5, 6]\n[9, 8, 7, 6, 5, 4, 3, 2, 1]\n[7, 6, 5, 4, 3, 2, 1]\n"
     ]
    }
   ],
   "source": [
    "# 리스트: 인덱싱, 슬라이싱 연습\n",
    "#\n",
    "x = [1, 2, 3, 4, 5, 6, 7, 8, 9]\n",
    "print(x[0:3])\n",
    "print(x[3:])\n",
    "print(x[:6])\n",
    "print(x[0:6:2])  # x[:6:2]\n",
    "print(x[-1])\n",
    "print(x[-3])\n",
    "print(x[:-3])\n",
    "print(x[::-1])\n",
    "print(x[-3::-1])"
   ]
  },
  {
   "cell_type": "code",
   "execution_count": 15,
   "metadata": {},
   "outputs": [
    {
     "output_type": "stream",
     "name": "stdout",
     "text": [
      "리스트: 리스트 연산하기\n[1, 2, 3, 4, 5, 6]\n[1, 2, 3, 1, 2, 3, 1, 2, 3]\n3\n"
     ]
    }
   ],
   "source": [
    "print(\"리스트: 리스트 연산하기\")\n",
    "# 리스트 더하기(+)\n",
    "a = [1, 2, 3]\n",
    "b = [4, 5, 6]\n",
    "print(a + b)\n",
    "# 리(스트 반복하기(*)\n",
    "print(a * 3)\n",
    "# 리스트 길이구하기\n",
    "print(len(a))"
   ]
  },
  {
   "cell_type": "code",
   "execution_count": 19,
   "metadata": {},
   "outputs": [
    {
     "output_type": "execute_result",
     "data": {
      "text/plain": [
       "'3hi'"
      ]
     },
     "metadata": {},
     "execution_count": 19
    }
   ],
   "source": [
    "# 초보자가 범하기 쉬운 리스트 연산 오류\n",
    "#\n",
    "a = [1, 2, 3]\n",
    "# print(a[2] + \"hi\") Error (정수+문자 불가능)\n",
    "str(a[2]) + \"hi\""
   ]
  },
  {
   "cell_type": "code",
   "execution_count": 20,
   "metadata": {},
   "outputs": [
    {
     "output_type": "stream",
     "name": "stdout",
     "text": [
      "[1, 2, 4]\n[1, 3]\n[1, 2]\n"
     ]
    }
   ],
   "source": [
    "# 리스트의 수정과 삭제\n",
    "a = [1, 2, 3]\n",
    "a[2] = 4  # list is mutable!!!\n",
    "print(a)\n",
    "\n",
    "#\n",
    "# del 함수 사용해 리스트 요소 삭제하기\n",
    "#\n",
    "a = [1, 2, 3]\n",
    "del a[1]\n",
    "print(a)\n",
    "a = [1, 2, 3, 4, 5]\n",
    "del a[2:]\n",
    "print(a)"
   ]
  },
  {
   "source": [
    "## list functions"
   ],
   "cell_type": "markdown",
   "metadata": {}
  },
  {
   "cell_type": "code",
   "execution_count": 21,
   "metadata": {},
   "outputs": [
    {
     "output_type": "stream",
     "name": "stdout",
     "text": [
      "리스트: 내부 함수 이용\n[1, 2, 3, 4]\n[1, 2, 3, 4, [5, 6]]\n"
     ]
    }
   ],
   "source": [
    "print(\"리스트: 내부 함수 이용\")\n",
    "# 리스트에 요소 추가(append)\n",
    "a = [1, 2, 3]\n",
    "a.append(4)\n",
    "print(a)\n",
    "# 리스트 안에는 어떤 자료형도 추가할 수 있다.\n",
    "# 리스트에 다시 리스트를 추가한 결과\n",
    "a.append([5, 6])\n",
    "print(a)"
   ]
  },
  {
   "cell_type": "code",
   "execution_count": 22,
   "metadata": {},
   "outputs": [
    {
     "output_type": "stream",
     "name": "stdout",
     "text": [
      "[1, 2, 3, 4]\n['a', 'b', 'c']\n['b', 'c', 'a']\n"
     ]
    }
   ],
   "source": [
    "# 리스트 정렬(sort)\n",
    "a = [1, 4, 3, 2]\n",
    "a.sort()\n",
    "print(a)\n",
    "\n",
    "s = [\"a\", \"c\", \"b\"]\n",
    "s.sort()\n",
    "print(s)\n",
    "# 리스트 뒤집기(reverse)\n",
    "a = [\"a\", \"c\", \"b\"]\n",
    "a.reverse()\n",
    "print(a)"
   ]
  },
  {
   "cell_type": "code",
   "execution_count": 23,
   "metadata": {},
   "outputs": [
    {
     "output_type": "stream",
     "name": "stdout",
     "text": [
      "2\n0\n0\n"
     ]
    }
   ],
   "source": [
    "# 위치 반환(index)\n",
    "a = [1, 2, 3]\n",
    "print(a.index(3))\n",
    "print(a.index(1))\n",
    "# print(a.index(0)) #Error (리스트에 0이 없다.)\n",
    "\n",
    "s = [\"a\", \"c\", \"b\"]\n",
    "# print(s.index(3))  # Error\n",
    "# print(s.index(a))  # Error\n",
    "print(s.index(\"a\"))"
   ]
  },
  {
   "cell_type": "code",
   "execution_count": 28,
   "metadata": {},
   "outputs": [
    {
     "output_type": "stream",
     "name": "stdout",
     "text": [
      "[4, 1, 2, 3]\n[4, 1, 2, 5, 3]\n[1, 2, 1, 2, 3]\n[1, 2, 1, 2]\n"
     ]
    }
   ],
   "source": [
    "# 리스트에 요소 삽입(insert)\n",
    "a = [1, 2, 3]\n",
    "a.insert(0, 4)  # 인덱스 0자리에 4, 기존 숫자는 뒤로 밀림\n",
    "print(a)\n",
    "a.insert(3, 5)\n",
    "print(a)\n",
    "# 리스트 요소 제거(remove)\n",
    "a = [1, 2, 3, 1, 2, 3]\n",
    "a.remove(3)\n",
    "print(a)\n",
    "# 3을 리스트 a에서 완전히 제거\n",
    "a.remove(3)\n",
    "print(a)\n",
    "# a.remove(3)  # ValueError 리스트에 3이 더이상 없다."
   ]
  },
  {
   "cell_type": "code",
   "execution_count": 30,
   "metadata": {},
   "outputs": [
    {
     "output_type": "stream",
     "name": "stdout",
     "text": [
      "3\n[1, 2]\n2\n[1, 3]\n"
     ]
    },
    {
     "output_type": "error",
     "ename": "IndexError",
     "evalue": "pop index out of range",
     "traceback": [
      "\u001b[1;31m---------------------------------------------------------------------------\u001b[0m",
      "\u001b[1;31mIndexError\u001b[0m                                Traceback (most recent call last)",
      "\u001b[1;32m<ipython-input-30-84284a3bb2f7>\u001b[0m in \u001b[0;36m<module>\u001b[1;34m\u001b[0m\n\u001b[0;32m      9\u001b[0m \u001b[0mprint\u001b[0m\u001b[1;33m(\u001b[0m\u001b[0ma\u001b[0m\u001b[1;33m.\u001b[0m\u001b[0mpop\u001b[0m\u001b[1;33m(\u001b[0m\u001b[1;36m1\u001b[0m\u001b[1;33m)\u001b[0m\u001b[1;33m)\u001b[0m\u001b[1;33m\u001b[0m\u001b[1;33m\u001b[0m\u001b[0m\n\u001b[0;32m     10\u001b[0m \u001b[0mprint\u001b[0m\u001b[1;33m(\u001b[0m\u001b[0ma\u001b[0m\u001b[1;33m)\u001b[0m\u001b[1;33m\u001b[0m\u001b[1;33m\u001b[0m\u001b[0m\n\u001b[1;32m---> 11\u001b[1;33m \u001b[0ma\u001b[0m\u001b[1;33m.\u001b[0m\u001b[0mpop\u001b[0m\u001b[1;33m(\u001b[0m\u001b[1;36m2\u001b[0m\u001b[1;33m)\u001b[0m  \u001b[1;31m# IndexError\u001b[0m\u001b[1;33m\u001b[0m\u001b[1;33m\u001b[0m\u001b[0m\n\u001b[0m",
      "\u001b[1;31mIndexError\u001b[0m: pop index out of range"
     ]
    }
   ],
   "source": [
    "# 리스트 요소 끄집어내기(pop)\n",
    "a = [1, 2, 3]\n",
    "# pop()은 리스트의 맨 마지막 요소를 돌려주고 그 요소는 삭제한다.\n",
    "print(a.pop())\n",
    "print(a)\n",
    "#\n",
    "a = [1, 2, 3]\n",
    "# pop(x)는 리스트의 index가 x인 요소를 돌려주고 그 요소는 삭제한다.\n",
    "print(a.pop(1))\n",
    "print(a)\n",
    "a.pop(2)  # IndexError"
   ]
  },
  {
   "cell_type": "code",
   "execution_count": 32,
   "metadata": {},
   "outputs": [
    {
     "output_type": "stream",
     "name": "stdout",
     "text": [
      "2\n[1, 2, 3, 4, 5]\n[1, 2, 3, 4, 5, 6, 7]\n"
     ]
    }
   ],
   "source": [
    "# 리스트에 포함된 요소 x의 개수 세기(count)\n",
    "a = [1, 2, 3, 1]\n",
    "print(a.count(1))\n",
    "# 리스트 확장(extend)\n",
    "a = [1, 2, 3]\n",
    "a.extend([4, 5])\n",
    "print(a)\n",
    "a  # a.extend([4, 5])는 a += [4, 5]와 동일\n",
    "b = [6, 7]\n",
    "a.extend(b)\n",
    "print(a)"
   ]
  },
  {
   "cell_type": "code",
   "execution_count": null,
   "metadata": {},
   "outputs": [],
   "source": []
  }
 ]
}