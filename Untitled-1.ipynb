{
 "metadata": {
  "language_info": {
   "codemirror_mode": {
    "name": "ipython",
    "version": 3
   },
   "file_extension": ".py",
   "mimetype": "text/x-python",
   "name": "python",
   "nbconvert_exporter": "python",
   "pygments_lexer": "ipython3",
   "version": "3.9.2"
  },
  "orig_nbformat": 2,
  "kernelspec": {
   "name": "python3",
   "display_name": "Python 3.9.2 64-bit",
   "metadata": {
    "interpreter": {
     "hash": "63fd5069d213b44bf678585dea6b12cceca9941eaf7f819626cde1f2670de90d"
    }
   }
  }
 },
 "nbformat": 4,
 "nbformat_minor": 2,
 "cells": [
  {
   "source": [
    "# ch2_02_string.py\n",
    "# \"Life is too short, you need python\"\n",
    "# 'Life is too short, you need python'\n",
    "# \"\"\"Life is too short, you need python\"\"\"\n",
    "# '''Life is too short, you need python'''"
   ],
   "cell_type": "markdown",
   "metadata": {}
  },
  {
   "source": [
    "# print(\"문자열: '\")"
   ],
   "cell_type": "markdown",
   "metadata": {}
  },
  {
   "source": [
    "food = \"python's favorite food is perl\""
   ],
   "cell_type": "markdown",
   "metadata": {}
  },
  {
   "cell_type": "code",
   "execution_count": 232,
   "metadata": {},
   "outputs": [
    {
     "output_type": "execute_result",
     "data": {
      "text/plain": [
       "\"python's favorite food is perl\""
      ]
     },
     "metadata": {},
     "execution_count": 232
    }
   ],
   "source": [
    "food"
   ]
  },
  {
   "source": [
    "# food 라는 문자열의 data type을 알고싶을때 type()"
   ],
   "cell_type": "markdown",
   "metadata": {}
  },
  {
   "cell_type": "code",
   "execution_count": 231,
   "metadata": {},
   "outputs": [
    {
     "output_type": "execute_result",
     "data": {
      "text/plain": [
       "str"
      ]
     },
     "metadata": {},
     "execution_count": 231
    }
   ],
   "source": [
    "type(food)"
   ]
  },
  {
   "source": [
    "food = \"python's favorite food is perl\" # Error"
   ],
   "cell_type": "markdown",
   "metadata": {}
  },
  {
   "cell_type": "code",
   "execution_count": 233,
   "metadata": {},
   "outputs": [
    {
     "output_type": "execute_result",
     "data": {
      "text/plain": [
       "\"python's favorite food is perl\""
      ]
     },
     "metadata": {},
     "execution_count": 233
    }
   ],
   "source": [
    "food"
   ]
  },
  {
   "cell_type": "code",
   "execution_count": 269,
   "metadata": {},
   "outputs": [
    {
     "output_type": "execute_result",
     "data": {
      "text/plain": [
       "'\"Python is very easy.\" he says.'"
      ]
     },
     "metadata": {},
     "execution_count": 269
    }
   ],
   "source": [
    "say = '\"Python is very easy.\" he says.'\n",
    "say"
   ]
  },
  {
   "source": [
    "# print(\"문자열 : \\ 이용\")"
   ],
   "cell_type": "markdown",
   "metadata": {}
  },
  {
   "source": [
    "food = 'python\\'s favorite food is perl'"
   ],
   "cell_type": "markdown",
   "metadata": {}
  },
  {
   "cell_type": "code",
   "execution_count": 247,
   "metadata": {},
   "outputs": [
    {
     "output_type": "execute_result",
     "data": {
      "text/plain": [
       "\"python's favorite food is perl\""
      ]
     },
     "metadata": {},
     "execution_count": 247
    }
   ],
   "source": [
    "food"
   ]
  },
  {
   "cell_type": "code",
   "execution_count": 271,
   "metadata": {},
   "outputs": [
    {
     "output_type": "execute_result",
     "data": {
      "text/plain": [
       "'\"Python is very easy.\" he says.'"
      ]
     },
     "metadata": {},
     "execution_count": 271
    }
   ],
   "source": [
    "say = \"\\\"Python is very easy.\\\" he says.\"\n",
    "say"
   ]
  },
  {
   "source": [
    "# 이스케이프 코드"
   ],
   "cell_type": "markdown",
   "metadata": {}
  },
  {
   "source": [
    "# print(\"문자열: 이스케이프 코드 이용\")"
   ],
   "cell_type": "markdown",
   "metadata": {}
  },
  {
   "source": [
    "multiline = \"Life is too short\\nyou need python\""
   ],
   "cell_type": "markdown",
   "metadata": {}
  },
  {
   "cell_type": "code",
   "execution_count": 81,
   "metadata": {},
   "outputs": [
    {
     "output_type": "execute_result",
     "data": {
      "text/plain": [
       "'Life is too short\\nyou need python'"
      ]
     },
     "metadata": {},
     "execution_count": 81
    }
   ],
   "source": [
    "multiline"
   ]
  },
  {
   "cell_type": "code",
   "execution_count": 248,
   "metadata": {},
   "outputs": [
    {
     "output_type": "stream",
     "name": "stdout",
     "text": [
      "\nLife is too short\nyou need python\n\n"
     ]
    }
   ],
   "source": [
    "print(multiline)"
   ]
  },
  {
   "source": [
    "# 여러줄 문자열 처리"
   ],
   "cell_type": "markdown",
   "metadata": {}
  },
  {
   "cell_type": "code",
   "execution_count": 249,
   "metadata": {},
   "outputs": [],
   "source": [
    "multiline = '''\n",
    "Life is too short\n",
    "you need python\n",
    "'''"
   ]
  },
  {
   "cell_type": "code",
   "execution_count": 250,
   "metadata": {},
   "outputs": [
    {
     "output_type": "stream",
     "name": "stdout",
     "text": [
      "\nLife is too short\nyou need python\n\n"
     ]
    }
   ],
   "source": [
    "print(multiline)"
   ]
  },
  {
   "source": [
    "multiline = '''\n",
    "Life is too short\n",
    "you need python\n",
    "'''"
   ],
   "cell_type": "markdown",
   "metadata": {}
  },
  {
   "cell_type": "code",
   "execution_count": 251,
   "metadata": {},
   "outputs": [
    {
     "output_type": "execute_result",
     "data": {
      "text/plain": [
       "'\\nLife is too short\\nyou need python\\n'"
      ]
     },
     "metadata": {},
     "execution_count": 251
    }
   ],
   "source": [
    "multiline"
   ]
  },
  {
   "cell_type": "code",
   "execution_count": 252,
   "metadata": {},
   "outputs": [
    {
     "output_type": "stream",
     "name": "stdout",
     "text": [
      "\nLife is too short\nyou need python\n\n"
     ]
    }
   ],
   "source": [
    "print(multiline)"
   ]
  },
  {
   "source": [
    "# print(\"문자열 연산: 더하기\")"
   ],
   "cell_type": "markdown",
   "metadata": {}
  },
  {
   "source": [
    "head = \"python\"\n",
    "fun = \" is fun!\""
   ],
   "cell_type": "markdown",
   "metadata": {}
  },
  {
   "cell_type": "code",
   "execution_count": 253,
   "metadata": {},
   "outputs": [
    {
     "output_type": "execute_result",
     "data": {
      "text/plain": [
       "'python is fun!'"
      ]
     },
     "metadata": {},
     "execution_count": 253
    }
   ],
   "source": [
    "head + fun"
   ]
  },
  {
   "source": [
    "# print(\"문자열 연산: 곱하기\")"
   ],
   "cell_type": "markdown",
   "metadata": {}
  },
  {
   "cell_type": "code",
   "execution_count": 255,
   "metadata": {},
   "outputs": [
    {
     "output_type": "execute_result",
     "data": {
      "text/plain": [
       "'pythonpython'"
      ]
     },
     "metadata": {},
     "execution_count": 255
    }
   ],
   "source": [
    "a = \"python\"\n",
    "a * 2"
   ]
  },
  {
   "source": [
    "# multistring.py"
   ],
   "cell_type": "markdown",
   "metadata": {}
  },
  {
   "cell_type": "code",
   "execution_count": 122,
   "metadata": {},
   "outputs": [
    {
     "output_type": "stream",
     "name": "stdout",
     "text": [
      "==================================================\nI am now coding python!\n==================================================\n"
     ]
    }
   ],
   "source": [
    "print(\"=\" * 50)\n",
    "print(\"I am now coding python!\")\n",
    "print(\"=\" * 50)"
   ]
  },
  {
   "source": [
    "# 내장함수: len()"
   ],
   "cell_type": "markdown",
   "metadata": {}
  },
  {
   "source": [
    "# print(\"문자열 연산: 길이구하기 - len()\")"
   ],
   "cell_type": "markdown",
   "metadata": {}
  },
  {
   "cell_type": "code",
   "execution_count": 128,
   "metadata": {},
   "outputs": [
    {
     "output_type": "execute_result",
     "data": {
      "text/plain": [
       "17"
      ]
     },
     "metadata": {},
     "execution_count": 128
    }
   ],
   "source": [
    "a = \"Life is too short\"\n",
    "len(a)"
   ]
  },
  {
   "source": [
    "# 문자열 인덱싱과 슬라이싱"
   ],
   "cell_type": "markdown",
   "metadata": {}
  },
  {
   "source": [
    "# print(\"문자열: 인덱싱이란?\")"
   ],
   "cell_type": "markdown",
   "metadata": {}
  },
  {
   "cell_type": "code",
   "execution_count": 256,
   "metadata": {},
   "outputs": [],
   "source": [
    "a = \"Life is too short, You need Python\"\n",
    "print(a[3])\n",
    "print(a[15])"
   ]
  },
  {
   "source": [
    "# \"파이썬은 0부터 숫자를 센다.\""
   ],
   "cell_type": "markdown",
   "metadata": {}
  },
  {
   "source": [
    "# print(\"문자열: 인덱싱 활용\")"
   ],
   "cell_type": "markdown",
   "metadata": {}
  },
  {
   "cell_type": "code",
   "execution_count": 138,
   "metadata": {},
   "outputs": [
    {
     "output_type": "stream",
     "name": "stdout",
     "text": [
      "L\ns\nn\n"
     ]
    }
   ],
   "source": [
    "a = \"Life is too short, You need Python\"\n",
    "print(a[0])\n",
    "print(a[12])\n",
    "print(a[-1])"
   ]
  },
  {
   "source": [
    "# a[-0]"
   ],
   "cell_type": "markdown",
   "metadata": {}
  },
  {
   "cell_type": "code",
   "execution_count": 147,
   "metadata": {},
   "outputs": [
    {
     "output_type": "stream",
     "name": "stdout",
     "text": [
      "o\ny\n \n"
     ]
    }
   ],
   "source": [
    "print(a[-2])\n",
    "print(a[-5])\n",
    "print(a[-12])"
   ]
  },
  {
   "source": [
    "# print(\"문자열: 슬라이싱이란?\")"
   ],
   "cell_type": "markdown",
   "metadata": {}
  },
  {
   "source": [
    "a = \"Life is too short, You need Python\""
   ],
   "cell_type": "markdown",
   "metadata": {}
  },
  {
   "source": [
    "# Life 를 뽑아낼려면 어떻게?"
   ],
   "cell_type": "markdown",
   "metadata": {}
  },
  {
   "cell_type": "code",
   "execution_count": 156,
   "metadata": {},
   "outputs": [
    {
     "output_type": "execute_result",
     "data": {
      "text/plain": [
       "'Life'"
      ]
     },
     "metadata": {},
     "execution_count": 156
    }
   ],
   "source": [
    "b = a[0] + a[1] +  a[2] + a[3] # 문자열 더하기 연산\n",
    "b"
   ]
  },
  {
   "source": [
    "# slicing (슬라이싱)"
   ],
   "cell_type": "markdown",
   "metadata": {}
  },
  {
   "cell_type": "code",
   "execution_count": 158,
   "metadata": {},
   "outputs": [
    {
     "output_type": "stream",
     "name": "stdout",
     "text": [
      "Life\nLife \nshort\n"
     ]
    }
   ],
   "source": [
    "print(a[0:4]) # 0 <= index <4\n",
    "print(a[0:5])\n",
    "print(a[12:17])"
   ]
  },
  {
   "source": [
    "# : 의 사용"
   ],
   "cell_type": "markdown",
   "metadata": {}
  },
  {
   "cell_type": "code",
   "execution_count": 159,
   "metadata": {},
   "outputs": [
    {
     "output_type": "stream",
     "name": "stdout",
     "text": [
      "Life\nYou need Python\nLife is too short\nLife is too short, You need Python\n"
     ]
    }
   ],
   "source": [
    "print(a[:4])\n",
    "print(a[19:])\n",
    "print(a[:17])\n",
    "print(a[:])"
   ]
  },
  {
   "source": [
    "# a[19:-7] ?"
   ],
   "cell_type": "markdown",
   "metadata": {}
  },
  {
   "cell_type": "code",
   "execution_count": 160,
   "metadata": {},
   "outputs": [
    {
     "output_type": "execute_result",
     "data": {
      "text/plain": [
       "'You need'"
      ]
     },
     "metadata": {},
     "execution_count": 160
    }
   ],
   "source": [
    "a[19:-7]"
   ]
  },
  {
   "source": [
    "# print(\"문자열: 슬라이싱 응용?\")"
   ],
   "cell_type": "markdown",
   "metadata": {}
  },
  {
   "cell_type": "code",
   "execution_count": 261,
   "metadata": {},
   "outputs": [],
   "source": [
    "a = \"20190909Sunny\"\n",
    "date = a[:8]\n",
    "weather = a[8:]"
   ]
  },
  {
   "cell_type": "code",
   "execution_count": 172,
   "metadata": {},
   "outputs": [
    {
     "output_type": "stream",
     "name": "stdout",
     "text": [
      "20190909\nSunny\n"
     ]
    }
   ],
   "source": [
    "print(date)\n",
    "print(weather)"
   ]
  },
  {
   "cell_type": "code",
   "execution_count": 192,
   "metadata": {},
   "outputs": [
    {
     "output_type": "stream",
     "name": "stdout",
     "text": [
      "20190909\nRainy\n"
     ]
    }
   ],
   "source": [
    "a = \"20190927Rainy\"\n",
    "year = a[:8]\n",
    "weather = a[8:]\n",
    "print(date)\n",
    "print(weather)"
   ]
  },
  {
   "cell_type": "code",
   "execution_count": 266,
   "metadata": {},
   "outputs": [
    {
     "output_type": "execute_result",
     "data": {
      "text/plain": [
       "('2019', '0917', 'Rainy')"
      ]
     },
     "metadata": {},
     "execution_count": 266
    }
   ],
   "source": [
    "a = \"20190917Rainy\"\n",
    "year = a[:4]\n",
    "day = a[4:8]\n",
    "weather = a[8:]\n",
    "year,day,weather"
   ]
  },
  {
   "source": [
    "# \"Pithon\"이라는 문자열을 \"Python\"으로 바꾸려면?"
   ],
   "cell_type": "markdown",
   "metadata": {}
  },
  {
   "cell_type": "code",
   "execution_count": 223,
   "metadata": {},
   "outputs": [
    {
     "output_type": "stream",
     "name": "stdout",
     "text": [
      "i\n"
     ]
    },
    {
     "output_type": "error",
     "ename": "TypeError",
     "evalue": "'str' object does not support item assignment",
     "traceback": [
      "\u001b[1;31m---------------------------------------------------------------------------\u001b[0m",
      "\u001b[1;31mTypeError\u001b[0m                                 Traceback (most recent call last)",
      "\u001b[1;32m<ipython-input-223-464d598b93ad>\u001b[0m in \u001b[0;36m<module>\u001b[1;34m\u001b[0m\n\u001b[0;32m      1\u001b[0m \u001b[0ma\u001b[0m \u001b[1;33m=\u001b[0m \u001b[1;34m\"pithon\"\u001b[0m\u001b[1;33m\u001b[0m\u001b[1;33m\u001b[0m\u001b[0m\n\u001b[0;32m      2\u001b[0m \u001b[0mprint\u001b[0m\u001b[1;33m(\u001b[0m\u001b[0ma\u001b[0m\u001b[1;33m[\u001b[0m\u001b[1;36m1\u001b[0m\u001b[1;33m]\u001b[0m\u001b[1;33m)\u001b[0m\u001b[1;33m\u001b[0m\u001b[1;33m\u001b[0m\u001b[0m\n\u001b[1;32m----> 3\u001b[1;33m \u001b[0ma\u001b[0m\u001b[1;33m[\u001b[0m\u001b[1;36m1\u001b[0m\u001b[1;33m]\u001b[0m \u001b[1;33m=\u001b[0m \u001b[1;34m'y'\u001b[0m \u001b[1;31m# Error (imutable한 자료형)\u001b[0m\u001b[1;33m\u001b[0m\u001b[1;33m\u001b[0m\u001b[0m\n\u001b[0m",
      "\u001b[1;31mTypeError\u001b[0m: 'str' object does not support item assignment"
     ]
    }
   ],
   "source": [
    "a = \"pithon\"\n",
    "print(a[1])\n",
    "a[1] = 'y' # Error (imutable한 자료형) (한번 정의된 문자열은 수정불가)"
   ]
  },
  {
   "cell_type": "code",
   "execution_count": 222,
   "metadata": {},
   "outputs": [
    {
     "output_type": "stream",
     "name": "stdout",
     "text": [
      "P\nthon\nPython\n"
     ]
    }
   ],
   "source": [
    "a = \"Pithon\"\n",
    "print(a[:1])\n",
    "print(a[2:])\n",
    "print(a[:1] + 'y' + a[2:])"
   ]
  }
 ]
}