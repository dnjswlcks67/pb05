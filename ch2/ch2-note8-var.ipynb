{
 "metadata": {
  "language_info": {
   "codemirror_mode": {
    "name": "ipython",
    "version": 3
   },
   "file_extension": ".py",
   "mimetype": "text/x-python",
   "name": "python",
   "nbconvert_exporter": "python",
   "pygments_lexer": "ipython3",
   "version": "3.9.2"
  },
  "orig_nbformat": 2,
  "kernelspec": {
   "name": "python392jvsc74a57bd063fd5069d213b44bf678585dea6b12cceca9941eaf7f819626cde1f2670de90d",
   "display_name": "Python 3.9.2 64-bit"
  },
  "metadata": {
   "interpreter": {
    "hash": "63fd5069d213b44bf678585dea6b12cceca9941eaf7f819626cde1f2670de90d"
   }
  }
 },
 "nbformat": 4,
 "nbformat_minor": 2,
 "cells": [
  {
   "source": [
    "### ch2-note8-var,ipynb by pb05"
   ],
   "cell_type": "markdown",
   "metadata": {}
  },
  {
   "cell_type": "code",
   "execution_count": 4,
   "metadata": {},
   "outputs": [
    {
     "output_type": "stream",
     "name": "stdout",
     "text": [
      "변수: 변수란?\n"
     ]
    },
    {
     "output_type": "execute_result",
     "data": {
      "text/plain": [
       "2129741024320"
      ]
     },
     "metadata": {},
     "execution_count": 4
    }
   ],
   "source": [
    "print(\"변수: 변수란?\")\n",
    "#변수는 자료(값)을 저장하는 공간이다.\n",
    "a = [1, 2, 3] \n",
    "id(a)  # a 변수가 가리키는 메모리의 주소\n",
    "# 동적데이터 구조 : 변수a에 어떤 값이 들어갈때 데이터타입이 결정된다. 현재  a = class 'list'"
   ]
  },
  {
   "cell_type": "code",
   "execution_count": 3,
   "metadata": {},
   "outputs": [
    {
     "output_type": "stream",
     "name": "stdout",
     "text": [
      "2129739560576\n2129739560576 2129739560576\nTrue\n[1, 4, 3] [1, 4, 3]\nTrue\n2129737641920\nFalse\n"
     ]
    }
   ],
   "source": [
    "# list\n",
    "a = [1, 2, 3] \n",
    "print(id(a)) # 위 a와 다른 주소를 가진다.\n",
    "b = [1, 2, 3]\n",
    "b = a       \n",
    "print(id(a), id(b))  # a,b 같은 주소에 있게된다.\n",
    "print(a is b)\n",
    "a[1] = 4\n",
    "print(a, b)\n",
    "print(a is b)\n",
    "b = [1, 2, 3] # b는 다른주소에 있는 변수가 된다.\n",
    "print(id(b))\n",
    "print(a is b)"
   ]
  },
  {
   "source": [
    "### b 변수를 생성할 때 a 변수의 값을 가져오면서\n",
    "### a와는 다른 주소를 가리키도록 만들수는 없을까?\n",
    "### 다음 2가지 방법이 있다."
   ],
   "cell_type": "markdown",
   "metadata": {}
  },
  {
   "cell_type": "code",
   "execution_count": 8,
   "metadata": {},
   "outputs": [
    {
     "output_type": "stream",
     "name": "stdout",
     "text": [
      "[1, 4, 3] [1, 2, 3]\nFalse False\n"
     ]
    }
   ],
   "source": [
    "# 1. [:] 이용\n",
    "#\n",
    "a = [1, 2, 3]\n",
    "b = a[:] # b는 새로운 list 1,2,3값을 가지게 된다.\n",
    "a[1] = 4\n",
    "print(a, b)\n",
    "#\n",
    "# 2. copy 모듈 이용\n",
    "#\n",
    "a = [1, 2, 3]\n",
    "from copy import copy # copy 모듈을 사용하기위해 필요\n",
    "b = copy(a)  # b는 a와 같은값,다른 주소를 가지게됌.\n",
    "\n",
    "print(b is a, a is b)"
   ]
  },
  {
   "cell_type": "code",
   "execution_count": 9,
   "metadata": {},
   "outputs": [
    {
     "output_type": "stream",
     "name": "stdout",
     "text": [
      "python\nlife\npython life\npython\nlife\n5\n3\n"
     ]
    }
   ],
   "source": [
    "# 변수를 만드는 여러 가지 방법\n",
    "#\n",
    "a, b = (\"python\", \"life\") # ( , )은 tuple 데이터 타입\n",
    "print(a)\n",
    "print(b)\n",
    "print(a, b)\n",
    "\n",
    "[a, b] = [\"python\", \"life\"] # [ ]은 list 데이터 타입\n",
    "print(a)\n",
    "print(b)\n",
    "\n",
    "a = 3\n",
    "b = 5\n",
    "a, b = b, a #swaping = a와b변수를 동시에 바꿀 수 있다.\n",
    "print(a)\n",
    "print(b)"
   ]
  },
  {
   "cell_type": "code",
   "execution_count": null,
   "metadata": {},
   "outputs": [],
   "source": []
  }
 ]
}