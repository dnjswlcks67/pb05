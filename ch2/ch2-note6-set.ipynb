{
 "metadata": {
  "language_info": {
   "codemirror_mode": {
    "name": "ipython",
    "version": 3
   },
   "file_extension": ".py",
   "mimetype": "text/x-python",
   "name": "python",
   "nbconvert_exporter": "python",
   "pygments_lexer": "ipython3",
   "version": "3.9.2"
  },
  "orig_nbformat": 2,
  "kernelspec": {
   "name": "python392jvsc74a57bd063fd5069d213b44bf678585dea6b12cceca9941eaf7f819626cde1f2670de90d",
   "display_name": "Python 3.9.2 64-bit"
  },
  "metadata": {
   "interpreter": {
    "hash": "63fd5069d213b44bf678585dea6b12cceca9941eaf7f819626cde1f2670de90d"
   }
  }
 },
 "nbformat": 4,
 "nbformat_minor": 2,
 "cells": [
  {
   "source": [
    "### ch2-note6-set.ipynb by pb05"
   ],
   "cell_type": "markdown",
   "metadata": {}
  },
  {
   "source": [
    "## print(\"집합: 집합(Set)이란?\")\n",
    "## 집합에 관련된 것을 쉽게 처리하기 위해 만든 자료형\n",
    "## 중복된 값을 허용하지 않는다.\n",
    "##\n",
    "## set 키워드를 사용해서 집합자료형을 만든다."
   ],
   "cell_type": "markdown",
   "metadata": {}
  },
  {
   "cell_type": "code",
   "execution_count": 1,
   "metadata": {},
   "outputs": [
    {
     "output_type": "stream",
     "name": "stdout",
     "text": [
      "{1, 2, 3}\n{1, 2, 3}\n{'o', 'l', 'e', 'H'}\n"
     ]
    }
   ],
   "source": [
    "s1 = set([1, 2, 3])\n",
    "print(s1)\n",
    "s1n = set([1, 2, 3, 2])\n",
    "print(s1n)\n",
    "s2 = set(\"Hello\")\n",
    "print(s2)"
   ]
  },
  {
   "cell_type": "code",
   "execution_count": 4,
   "metadata": {},
   "outputs": [
    {
     "output_type": "stream",
     "name": "stdout",
     "text": [
      "[1, 2, 3]\n1\n['o', 'l', 'e', 'H']\ne\n(1, 2, 3)\n1\n"
     ]
    }
   ],
   "source": [
    "# 집합 자료형의 특징\n",
    "# 1. 중복을 허용하지 않는다.\n",
    "# 2. 순서가 없다(Unordered).\n",
    "# *** set 자료형은 순서가 없기(unordered) 때문에 인덱싱으로 값을 얻을 수 없다.\n",
    "\n",
    "s1 = set([1,2,3])\n",
    "# s1[0]    =  Error (set은 순서가 없기 때문에 인덱싱이 안됌) \n",
    "l1=list(s1)\n",
    "print(l1)\n",
    "print(l1[0])\n",
    "s2l = list(s2)\n",
    "print(s2l)\n",
    "print(s2l[2])\n",
    "# tuple 함수 이용하여 인덱싱\n",
    "t1=tuple(s1)\n",
    "print(t1)\n",
    "print(t1[0])"
   ]
  },
  {
   "cell_type": "code",
   "execution_count": 5,
   "metadata": {},
   "outputs": [
    {
     "output_type": "stream",
     "name": "stdout",
     "text": [
      "{4, 5, 6}\n{4, 5, 6}\n{1, 2, 3, 4, 5, 6, 7, 8, 9}\n{1, 2, 3, 4, 5, 6, 7, 8, 9}\n{1, 2, 3}\n{8, 9, 7}\n{1, 2, 3}\n{8, 9, 7}\n"
     ]
    }
   ],
   "source": [
    "# 교집합, 합집합, 차집합 구하기\n",
    "s1 = set([1, 2, 3, 4, 5, 6])\n",
    "s2 = set([4, 5, 6, 7, 8, 9])\n",
    "# 1. 교집합\n",
    "print(s1 & s2)\n",
    "print(s1.intersection(s2)) \n",
    "# 2. 합집합\n",
    "print(s1 | s2)\n",
    "print(s1.union(s2))\n",
    "# 3. 차집합\n",
    "print(s1 - s2)\n",
    "print((s2 - s1))\n",
    "print(s1.difference(s2))\n",
    "print(s2.difference(s1))\n"
   ]
  },
  {
   "cell_type": "code",
   "execution_count": 9,
   "metadata": {},
   "outputs": [
    {
     "output_type": "stream",
     "name": "stdout",
     "text": [
      "집합 (set): 관련 내장 함수들\n{1, 2, 3, 4}\n{1, 2, 3, 4, 5, 6}\n{1, 2, 3, 4, 5, 6}\n"
     ]
    }
   ],
   "source": [
    "print(\"집합 (set): 관련 내장 함수들\")\n",
    "# 값 1개 추가하기(add)\n",
    "s1 = set([1, 2, 3])\n",
    "s1.add(4)\n",
    "print(s1)\n",
    "# 값 여러 개 추가하기(update)\n",
    "s1 = set([1, 2, 3])\n",
    "s1.update([4,5,6])\n",
    "print(s1)\n",
    "s1.add(5)\n",
    "print(s1)"
   ]
  },
  {
   "cell_type": "code",
   "execution_count": 10,
   "metadata": {},
   "outputs": [
    {
     "output_type": "stream",
     "name": "stdout",
     "text": [
      "{1, 3}\n"
     ]
    }
   ],
   "source": [
    "# 특정 값 제거하기(remove)\n",
    "s1 = set([1, 2, 3])\n",
    "s1.remove(2)\n",
    "print(s1)"
   ]
  },
  {
   "cell_type": "code",
   "execution_count": 13,
   "metadata": {},
   "outputs": [
    {
     "output_type": "stream",
     "name": "stdout",
     "text": [
      "frozenset({5, 7})\n"
     ]
    }
   ],
   "source": [
    "# frozenset()  # immutable set\n",
    "small_primes = frozenset([2, 3, 5, 7])\n",
    "bigger_primes = frozenset([5, 7, 11])\n",
    "# print(small_primes.add(11))  # frozenset 함수는 불가변형 집합 이라 요소 를 추가할 수 없다.\n",
    "\n",
    "# print(small_primes.remove(2))  # frozenset 함수는 불가변형 집합 이라 요소 를 제거할 수 없다.\n",
    "\n",
    "print(small_primes & bigger_primes)  # intersect, union, etc. allowed\n",
    "# frozenset({5, 7})"
   ]
  }
 ]
}