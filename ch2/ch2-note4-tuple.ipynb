{
 "metadata": {
  "language_info": {
   "codemirror_mode": {
    "name": "ipython",
    "version": 3
   },
   "file_extension": ".py",
   "mimetype": "text/x-python",
   "name": "python",
   "nbconvert_exporter": "python",
   "pygments_lexer": "ipython3",
   "version": "3.9.2"
  },
  "orig_nbformat": 2,
  "kernelspec": {
   "name": "python3",
   "display_name": "Python 3.9.2 64-bit",
   "metadata": {
    "interpreter": {
     "hash": "63fd5069d213b44bf678585dea6b12cceca9941eaf7f819626cde1f2670de90d"
    }
   }
  }
 },
 "nbformat": 4,
 "nbformat_minor": 2,
 "cells": [
  {
   "source": [
    "## ch2-note4-tuple.ipynb by PB05\n",
    "### 튜플: tuple 이란?\n",
    "- 리스트는 [ ]으로 둘러싸지만 튜플은 ( )으로\n",
    " 둘러싼다.\n",
    "- 리스트는 그 값의 생성, 삭제, 수정이\n",
    " 가능하지만 튜플은 그 값을 바꿀 수 없다.\n",
    "- immutability of tuple"
   ],
   "cell_type": "markdown",
   "metadata": {}
  },
  {
   "cell_type": "code",
   "execution_count": null,
   "metadata": {},
   "outputs": [],
   "source": [
    "even = (2, 4, 6, 8)\n",
    "print(even)"
   ]
  },
  {
   "cell_type": "code",
   "execution_count": 5,
   "metadata": {},
   "outputs": [
    {
     "output_type": "stream",
     "name": "stdout",
     "text": [
      "()\n(1,)\n(1, 2, 3)\n(1, 2, 3)\n('a', 'b', ('ab', 'cd'))\n"
     ]
    }
   ],
   "source": [
    "# 여러 가지 튜플\n",
    "t1 = ()  # 튜플 초기화\n",
    "print(t1)\n",
    "t2 = (1,)\n",
    "print(t2)\n",
    "t3 = (1, 2, 3)\n",
    "print(t3)\n",
    "t4 = 1, 2, 3\n",
    "print(t4)\n",
    "t5 = (\"a\", \"b\", (\"ab\", \"cd\"))\n",
    "print(t5)"
   ]
  },
  {
   "source": [
    "## t2 = (1,)처럼 단지 1개의 요소만을 가질 때는 요소 뒤에\n",
    "## 콤마(,)를 반드시 붙여야 한다는 것과\n",
    "## t4 = 1, 2, 3처럼 괄호( )를 생략해도 무방하다."
   ],
   "cell_type": "markdown",
   "metadata": {}
  },
  {
   "cell_type": "code",
   "execution_count": 7,
   "metadata": {},
   "outputs": [
    {
     "output_type": "error",
     "ename": "SyntaxError",
     "evalue": "invalid syntax (<ipython-input-7-bf479421a618>, line 4)",
     "traceback": [
      "\u001b[1;36m  File \u001b[1;32m\"<ipython-input-7-bf479421a618>\"\u001b[1;36m, line \u001b[1;32m4\u001b[0m\n\u001b[1;33m    print(del t1[0])  # Error 튜플은 불가변형 변수다\u001b[0m\n\u001b[1;37m          ^\u001b[0m\n\u001b[1;31mSyntaxError\u001b[0m\u001b[1;31m:\u001b[0m invalid syntax\n"
     ]
    }
   ],
   "source": [
    "# 튜플의 요소값을 지우거나 변경하려고 하면 어떻게 될까?\n",
    "# 1. 튜플 요솟값을 삭제하려 할 때\n",
    "t1 = (1, 2, \"a\", \"b\")\n",
    "print(del t1[0])  # Error 튜플은 불가변형 변수다\n",
    "# 2. 튜플 요솟값을 변경하려 할 때\n",
    "t1[0] = \"c\"  # TypeError "
   ]
  },
  {
   "cell_type": "code",
   "execution_count": 8,
   "metadata": {},
   "outputs": [
    {
     "output_type": "stream",
     "name": "stdout",
     "text": [
      "튜플: 사용방법\n1\nb\n"
     ]
    }
   ],
   "source": [
    "print(\"튜플: 사용방법\")\n",
    "#\n",
    "# 인덱싱하기\n",
    "t1 = (1, 2, \"a\", \"b\")\n",
    "print(t1[0])\n",
    "print(t1[3])"
   ]
  },
  {
   "cell_type": "code",
   "execution_count": 9,
   "metadata": {},
   "outputs": [
    {
     "output_type": "stream",
     "name": "stdout",
     "text": [
      "(2, 'a', 'b')\n('a',)\n('a', 'b')\n"
     ]
    }
   ],
   "source": [
    "# 슬라이싱하기\n",
    "#\n",
    "t1 = (1, 2, \"a\", \"b\")\n",
    "print(t1[1:])\n",
    "print(t1[2:-1])  # ('a',)\n",
    "print(t1[2:])"
   ]
  },
  {
   "cell_type": "code",
   "execution_count": 10,
   "metadata": {},
   "outputs": [
    {
     "output_type": "stream",
     "name": "stdout",
     "text": [
      "(1, 2, 'a', 'b', 3, 4)\n"
     ]
    }
   ],
   "source": [
    "# 튜플 더하기\n",
    "#\n",
    "t1 = (1, 2, \"a\", \"b\")\n",
    "t2 = (3, 4)\n",
    "print(t1 + t2)"
   ]
  },
  {
   "cell_type": "code",
   "execution_count": 11,
   "metadata": {},
   "outputs": [
    {
     "output_type": "stream",
     "name": "stdout",
     "text": [
      "2313355772928\n(3, 4, 3, 4, 3, 4)\n2313355772928\n2313353566048\n"
     ]
    }
   ],
   "source": [
    "# 튜플 곱하기\n",
    "t2 = (3, 4)\n",
    "print(id(t2))\n",
    "print(t2 * 3)\n",
    "print(id(t2))\n",
    "t2 = t2 * 3\n",
    "print(id(t2))"
   ]
  },
  {
   "cell_type": "code",
   "execution_count": 13,
   "metadata": {},
   "outputs": [
    {
     "output_type": "stream",
     "name": "stdout",
     "text": [
      "4\n"
     ]
    }
   ],
   "source": [
    "# 튜플 길이 구하기\n",
    "t1 = (1, 2, \"a\", \"b\")\n",
    "print(len(t1))"
   ]
  }
 ]
}