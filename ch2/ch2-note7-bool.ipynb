{
 "metadata": {
  "language_info": {
   "codemirror_mode": {
    "name": "ipython",
    "version": 3
   },
   "file_extension": ".py",
   "mimetype": "text/x-python",
   "name": "python",
   "nbconvert_exporter": "python",
   "pygments_lexer": "ipython3",
   "version": "3.9.2"
  },
  "orig_nbformat": 2,
  "kernelspec": {
   "name": "python392jvsc74a57bd063fd5069d213b44bf678585dea6b12cceca9941eaf7f819626cde1f2670de90d",
   "display_name": "Python 3.9.2 64-bit"
  },
  "metadata": {
   "interpreter": {
    "hash": "63fd5069d213b44bf678585dea6b12cceca9941eaf7f819626cde1f2670de90d"
   }
  }
 },
 "nbformat": 4,
 "nbformat_minor": 2,
 "cells": [
  {
   "source": [
    "### ch2-note7-bool.ipynb pb05"
   ],
   "cell_type": "markdown",
   "metadata": {}
  },
  {
   "source": [
    "### print(\"불: 불 자료형이란?\")\n",
    "- 불(bool) 자료형이란 참(True)과 거짓(False)을 나타내는 자료형이다.\n",
    "- 불 자료형은 다음 2가지 값만을 가질 수 있다.\n",
    "- True - 참\n",
    "- False - 거짓\n",
    "- True나 False는 파이썬의 예약어로 true, false와 같이 사용하지 말고\n",
    "- 첫 문자를 항상 대문자로 사용해야 한다."
   ],
   "cell_type": "markdown",
   "metadata": {}
  },
  {
   "cell_type": "code",
   "execution_count": 1,
   "metadata": {},
   "outputs": [
    {
     "output_type": "stream",
     "name": "stdout",
     "text": [
      "<class 'bool'> <class 'bool'>\n"
     ]
    }
   ],
   "source": [
    "a = True\n",
    "b = False\n",
    "print(type(a), type(b))"
   ]
  },
  {
   "cell_type": "code",
   "execution_count": 2,
   "metadata": {},
   "outputs": [
    {
     "output_type": "stream",
     "name": "stdout",
     "text": [
      "True\nTrue\nFalse\n2\n1\n"
     ]
    }
   ],
   "source": [
    "# 참과 거짓\n",
    "print(1 == 1)\n",
    "print(2 > 1)\n",
    "print(2 < 1)\n",
    "print(True + 1)\n",
    "print(False + 1)"
   ]
  },
  {
   "cell_type": "code",
   "execution_count": 3,
   "metadata": {},
   "outputs": [
    {
     "output_type": "stream",
     "name": "stdout",
     "text": [
      "True\nFalse\nTrue\nTrue\nFalse\nFalse\nFalse\nTrue\nFalse\nFalse\n"
     ]
    }
   ],
   "source": [
    "# 자료형의 참과 거짓\n",
    "print(bool(\"python\"))\n",
    "print(bool(\"\"))\n",
    "print(bool([1, 2, 3]))\n",
    "print(bool([2, 3]))\n",
    "print(bool([]))\n",
    "print(bool(()))\n",
    "print(bool({}))\n",
    "print(bool(1))\n",
    "print(bool(0))\n",
    "print(bool(None))"
   ]
  },
  {
   "cell_type": "code",
   "execution_count": 4,
   "metadata": {},
   "outputs": [
    {
     "output_type": "stream",
     "name": "stdout",
     "text": [
      "4\n3\n2\n1\n"
     ]
    }
   ],
   "source": [
    "# 불 값을 이용한 코드\n",
    "a = [1, 2, 3, 4]\n",
    "\n",
    "while a:\n",
    "    print(a.pop())"
   ]
  },
  {
   "cell_type": "code",
   "execution_count": 5,
   "metadata": {},
   "outputs": [
    {
     "output_type": "stream",
     "name": "stdout",
     "text": [
      "거짓\n"
     ]
    }
   ],
   "source": [
    "if []:\n",
    "    print(\"참\")\n",
    "else:\n",
    "    print(\"거짓\")"
   ]
  },
  {
   "cell_type": "code",
   "execution_count": 7,
   "metadata": {},
   "outputs": [
    {
     "output_type": "stream",
     "name": "stdout",
     "text": [
      "0.09999999999999998\nFalse\n"
     ]
    }
   ],
   "source": [
    "#  Representation error\n",
    "## double precision representation of floating-point numbers\n",
    "print(1-0.9)\n",
    "# 0.09999999999999998\n",
    "print(1-0.9==.1)\n",
    "# False"
   ]
  },
  {
   "cell_type": "code",
   "execution_count": 10,
   "metadata": {},
   "outputs": [
    {
     "output_type": "stream",
     "name": "stdout",
     "text": [
      "3.140000000000000124344978758017532527446746826171875 2.7400000000000002131628207280300557613372802734375\n8.603600000000001010036498883\n8.604\n8.6\n"
     ]
    }
   ],
   "source": [
    "import decimal\n",
    "x=decimal.Decimal(3.14)\n",
    "y=decimal.Decimal(2.74)\n",
    "print(x,y)\n",
    "print(x*y)          # Decimal('8.603600000000001010036498883')\n",
    "decimal.getcontext().prec=4    # 소수점 4번째 자리에서 반올림\n",
    "print(x*y)          # Decimal('8.604')\n",
    "# 8.6까지만 나타내고 싶다면\n",
    "decimal.getcontext().prec=2    # 소수점 2번째 자리에서 반올림\n",
    "print(x*y)"
   ]
  }
 ]
}