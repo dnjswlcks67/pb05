{
  "nbformat": 4,
  "nbformat_minor": 0,
  "metadata": {
    "colab": {
      "name": "ch5_code01_pb05.ipynb",
      "provenance": [],
      "collapsed_sections": []
    },
    "kernelspec": {
      "display_name": "Python 3",
      "language": "python",
      "name": "python3"
    },
    "language_info": {
      "codemirror_mode": {
        "name": "ipython",
        "version": 3
      },
      "file_extension": ".py",
      "mimetype": "text/x-python",
      "name": "python",
      "nbconvert_exporter": "python",
      "pygments_lexer": "ipython3",
      "version": "3.7.5"
    }
  },
  "cells": [
    {
      "cell_type": "markdown",
      "metadata": {
        "id": "H4jNE-BMAK3f"
      },
      "source": [
        "# ch5_code01_pb05.ipynb\n",
        "## 5장 파이썬 날개달기\n",
        "## pb05  (change to your id)\n",
        "### 클래스, 모듈, 패키지\n",
        "---\n",
        "- 클래스\n",
        "   - 클래스는 왜 필요한가?\n",
        "   - 클래스와 객체\n",
        "   - 사칙연산 클래스 만들기\n",
        "     - 클래스를 어떻게 만들지 먼저 구상하기\n",
        "     - 클래스 구조 만들기\n",
        "     - 객체에 숫자 지정할 수 있게 만들기\n",
        "     - 더하기 기능 만들기\n",
        "     - 곱하기, 빼기, 나누기 기능 만들기\n",
        "   - 생성자 (Constructor)\n",
        "   - 클래스의 상속\n",
        "   - 메서드 오버라이딩\n",
        "   - 클래스 변수"
      ]
    },
    {
      "cell_type": "code",
      "metadata": {
        "id": "Ov7e_JitavQy"
      },
      "source": [
        ""
      ],
      "execution_count": null,
      "outputs": []
    },
    {
      "cell_type": "code",
      "metadata": {
        "id": "hXPcvn1CtW6z",
        "colab": {
          "base_uri": "https://localhost:8080/"
        },
        "outputId": "e431aa2b-fa2e-418a-d2c4-ec10a483fb9e"
      },
      "source": [
        "# ch5_01_class.py\n",
        "#\n",
        "print(\"클래스란 무엇인가?\")\n",
        "#######################################\n",
        "# 클래스(class)\n",
        "#######################################"
      ],
      "execution_count": 74,
      "outputs": [
        {
          "output_type": "stream",
          "text": [
            "클래스란 무엇인가?\n"
          ],
          "name": "stdout"
        }
      ]
    },
    {
      "cell_type": "code",
      "metadata": {
        "colab": {
          "base_uri": "https://localhost:8080/"
        },
        "id": "nidU4jxjIzox",
        "outputId": "13780b63-5fe8-4f9f-a078-bed9cb252224"
      },
      "source": [
        "print(\"클래스는 왜 필요한가?\")  \n",
        "#######################################\n",
        "# 지정된 기능을 수행하는 변수와 함수의 모음\n",
        "# 인스턴스, 즉 객체를 생성하여 기능을 이용\n",
        "# 코딩을 객체화\n",
        "#######################################\n",
        "# \n",
        "# [예] 이전에 계산한 결괏값을 기억하고 있는 계산기\n",
        "# \n",
        "result = 0\n",
        "\n",
        "def add(num):\n",
        "    global result\n",
        "    result += num\n",
        "    return result\n",
        "\n",
        "\n",
        "# 이전에 계산한 결괏값을 기억\n",
        "print(add(3))\n",
        "print(add(4))"
      ],
      "execution_count": 75,
      "outputs": [
        {
          "output_type": "stream",
          "text": [
            "클래스는 왜 필요한가?\n",
            "3\n",
            "7\n"
          ],
          "name": "stdout"
        }
      ]
    },
    {
      "cell_type": "code",
      "metadata": {
        "colab": {
          "base_uri": "https://localhost:8080/"
        },
        "id": "J20B7_D-LRxp",
        "outputId": "bee47f75-f8f4-4d83-89f7-e185d700470c"
      },
      "source": [
        "result"
      ],
      "execution_count": 76,
      "outputs": [
        {
          "output_type": "execute_result",
          "data": {
            "text/plain": [
              "7"
            ]
          },
          "metadata": {
            "tags": []
          },
          "execution_count": 76
        }
      ]
    },
    {
      "cell_type": "code",
      "metadata": {
        "colab": {
          "base_uri": "https://localhost:8080/"
        },
        "id": "mHfpdKIbJoYg",
        "outputId": "8f32406a-5377-4939-fafe-77eebf9837d8"
      },
      "source": [
        "# 2대의 계산기가 필요한 상황이 발생하면?\n",
        "result1 = 0\n",
        "result2 = 0\n",
        "\n",
        "def add1(num):\n",
        "    global result1\n",
        "    result1 += num\n",
        "    return result1\n",
        "\n",
        "\n",
        "def add2(num):\n",
        "    global result2\n",
        "    result2 += num\n",
        "    return result2\n",
        "\n",
        "\n",
        "\n",
        "print(add1(3))\n",
        "print(add1(4))\n",
        "print(add2(3))\n",
        "print(add2(7))\n",
        "\n",
        "# 계산기 1의 결괏값이 계산기 2에 아무 영향을 끼치지 않음을 확인할 수 있다. \n",
        "# 하지만 계산기가 3개, 5개, 10개로 점점 더 많이 필요해진다면 어떻게 해야 할까? \n",
        "# 그때마다 전역 변수와 함수를 추가할 것인가? \n"
      ],
      "execution_count": 77,
      "outputs": [
        {
          "output_type": "stream",
          "text": [
            "3\n",
            "7\n",
            "3\n",
            "10\n"
          ],
          "name": "stdout"
        }
      ]
    },
    {
      "cell_type": "code",
      "metadata": {
        "colab": {
          "base_uri": "https://localhost:8080/"
        },
        "id": "kARENBaYNASu",
        "outputId": "589e0db9-061a-410e-bf35-30b23e14acee"
      },
      "source": [
        "result1,result2"
      ],
      "execution_count": 78,
      "outputs": [
        {
          "output_type": "execute_result",
          "data": {
            "text/plain": [
              "(7, 10)"
            ]
          },
          "metadata": {
            "tags": []
          },
          "execution_count": 78
        }
      ]
    },
    {
      "cell_type": "markdown",
      "metadata": {
        "id": "Lo_1HXnFNkL2"
      },
      "source": [
        "### 클래스를 설계"
      ]
    },
    {
      "cell_type": "code",
      "metadata": {
        "colab": {
          "base_uri": "https://localhost:8080/"
        },
        "id": "UVOnM4QZMoSB",
        "outputId": "d1790aa0-2fc7-4432-ffd1-a0f861f316ac"
      },
      "source": [
        "#######################################\n",
        "print(\"클래스를 사용하면 간단하게 해결\")\n",
        "#######################################\n",
        "# class Calculator\n",
        "class Calculator:\n",
        "    def __init__(self):\n",
        "        self.result = 0\n",
        "\n",
        "    def add(self, num):\n",
        "        self.result += num\n",
        "        return self.result\n",
        "    \n",
        "    # def sub(self, num):\n",
        "    #     self.result -= num\n",
        "    #     return self.result"
      ],
      "execution_count": 79,
      "outputs": [
        {
          "output_type": "stream",
          "text": [
            "클래스를 사용하면 간단하게 해결\n"
          ],
          "name": "stdout"
        }
      ]
    },
    {
      "cell_type": "code",
      "metadata": {
        "colab": {
          "base_uri": "https://localhost:8080/"
        },
        "id": "rGX12AAsUB97",
        "outputId": "bdbcb95c-8d54-48cb-e766-47d1f52c1dcb"
      },
      "source": [
        "cal1 = Calculator()\n",
        "cal2 = Calculator()\n",
        "\n",
        "print(cal1.add(3))\n",
        "print(cal1.add(4))\n",
        "print(cal2.add(3))\n",
        "print(cal2.add(7))"
      ],
      "execution_count": 80,
      "outputs": [
        {
          "output_type": "stream",
          "text": [
            "3\n",
            "7\n",
            "3\n",
            "10\n"
          ],
          "name": "stdout"
        }
      ]
    },
    {
      "cell_type": "code",
      "metadata": {
        "colab": {
          "base_uri": "https://localhost:8080/"
        },
        "id": "AjWFTPzOYI1x",
        "outputId": "f9828ba2-d0f6-4da4-e242-2be7713f3dc9"
      },
      "source": [
        "cal3 = Calculator()\n",
        "cal3.add(10)"
      ],
      "execution_count": 81,
      "outputs": [
        {
          "output_type": "execute_result",
          "data": {
            "text/plain": [
              "10"
            ]
          },
          "metadata": {
            "tags": []
          },
          "execution_count": 81
        }
      ]
    },
    {
      "cell_type": "code",
      "metadata": {
        "colab": {
          "base_uri": "https://localhost:8080/"
        },
        "id": "S8Qggf_nYUX7",
        "outputId": "a763c99b-7e65-46ef-b5e3-439cef245638"
      },
      "source": [
        "cal3.add(40)"
      ],
      "execution_count": 42,
      "outputs": [
        {
          "output_type": "execute_result",
          "data": {
            "text/plain": [
              "50"
            ]
          },
          "metadata": {
            "tags": []
          },
          "execution_count": 42
        }
      ]
    },
    {
      "cell_type": "code",
      "metadata": {
        "id": "eBFXP8ACT_4n"
      },
      "source": [
        "# \n",
        "# 뺄셈(sub)을 추가하고 클래스의 객체를 다시 만들어서 사용한다.\n",
        "# \n",
        "class Calculator:\n",
        "    def __init__(self):\n",
        "        self.result = 0\n",
        "\n",
        "    def add(self, num):\n",
        "        self.result += num\n",
        "        return self.result\n",
        "    \n",
        "    def sub(self, num):\n",
        "        self.result -= num\n",
        "        return self.result\n"
      ],
      "execution_count": 82,
      "outputs": []
    },
    {
      "cell_type": "code",
      "metadata": {
        "colab": {
          "base_uri": "https://localhost:8080/"
        },
        "id": "5ubEWC6ygWI8",
        "outputId": "959d6b26-f9ce-408f-f912-d9668ecadc22"
      },
      "source": [
        "cal = Calculator()\n",
        "cal.add(100)\n",
        "cal.sub(50)"
      ],
      "execution_count": 44,
      "outputs": [
        {
          "output_type": "execute_result",
          "data": {
            "text/plain": [
              "50"
            ]
          },
          "metadata": {
            "tags": []
          },
          "execution_count": 44
        }
      ]
    },
    {
      "cell_type": "markdown",
      "metadata": {
        "id": "E26Kf4UPiveY"
      },
      "source": [
        "### 클래스와 객체"
      ]
    },
    {
      "cell_type": "code",
      "metadata": {
        "colab": {
          "base_uri": "https://localhost:8080/"
        },
        "id": "LNMmNQpif-Yh",
        "outputId": "0906c8aa-f356-43c7-9b53-475f15e18565"
      },
      "source": [
        "print(\"클래스와 객체\")\n",
        "#######################################\n",
        "# 클래스(class)란 똑같은 무엇인가를 계속해서 만들어 낼 수 있는 설계 도면\n",
        "# 객체(object)란 클래스로 만든 피조물(과자 틀을 사용해 만든 과자)\n",
        "#\n",
        "# 클래스(class) : 과자 틀 \n",
        "# 객체(object) : 과자 틀을 사용해 만든 과자\n",
        "#\n",
        "# 동일한 클래스로 만든 객체들은 서로 전혀 영향을 주지 않는다.\n",
        "#######################################\n",
        "\n",
        "# 간단한 클래스와 객체 \n",
        "class Cookie:\n",
        "    pass\n",
        "\n",
        "a = Cookie()\n",
        "b = Cookie()\n",
        "id(a), id(b) , id(a) == id(b)"
      ],
      "execution_count": 83,
      "outputs": [
        {
          "output_type": "stream",
          "text": [
            "클래스와 객체\n"
          ],
          "name": "stdout"
        },
        {
          "output_type": "execute_result",
          "data": {
            "text/plain": [
              "(140111552654160, 140111552652752, False)"
            ]
          },
          "metadata": {
            "tags": []
          },
          "execution_count": 83
        }
      ]
    },
    {
      "cell_type": "markdown",
      "metadata": {
        "id": "bVwbMaXBVEFF"
      },
      "source": [
        "### 객체와 인스턴스의 차이\n",
        "####  a = Cookie() 이렇게 만든 a는 객체이다. \n",
        "- 그리고 a 객체는 Cookie의 인스턴스이다. \n",
        "> 즉 인스턴스라는 말은 특정 객체(a)가 어떤 클래스(Cookie)의 객체인지를 관계 위주로 설명할 때 사용한다."
      ]
    },
    {
      "cell_type": "code",
      "metadata": {
        "colab": {
          "base_uri": "https://localhost:8080/"
        },
        "id": "9QHhdZHpTmtx",
        "outputId": "f3e11342-9893-4715-fe3c-4f2555ccb95a"
      },
      "source": [
        "# 객체와 인스턴스의 차이\n",
        "#  a = Cookie() 이렇게 만든 a는 객체이다. \n",
        "# 그리고 a 객체는 Cookie의 인스턴스이다. \n",
        "# 즉 인스턴스라는 말은 특정 객체(a)가 \n",
        "# 어떤 클래스(Cookie)의 객체인지를 \n",
        "# 관계 위주로 설명할 때 사용한다\n",
        " \n",
        "print(\"사칙연산 클래스 만들기\")\n",
        "#######################################\n",
        "# 사칙연산을 가능하게 하는 FourCal 클래스\n",
        "# class FourCal\n",
        "#\n",
        "# Usage:\n",
        "# a = FourCal()\n",
        "# a.setdata(4, 2)\n",
        "# a.add(), a.sub(), a.mul(), a.div()\n",
        "#\n",
        "#######################################"
      ],
      "execution_count": 84,
      "outputs": [
        {
          "output_type": "stream",
          "text": [
            "사칙연산 클래스 만들기\n"
          ],
          "name": "stdout"
        }
      ]
    },
    {
      "cell_type": "code",
      "metadata": {
        "colab": {
          "base_uri": "https://localhost:8080/"
        },
        "id": "33cLoTqVYcFi",
        "outputId": "55c4ced7-f479-4522-dcfe-bbfc42f0dc2d"
      },
      "source": [
        "print(\"1. FourCal 클래스 구조 만들기\")\n",
        "\n",
        "class FourCal:\n",
        "    pass\n",
        "\n",
        "\n",
        "# 객체  a), id(a)"
      ],
      "execution_count": 47,
      "outputs": [
        {
          "output_type": "stream",
          "text": [
            "1. FourCal 클래스 구조 만들기\n"
          ],
          "name": "stdout"
        }
      ]
    },
    {
      "cell_type": "code",
      "metadata": {
        "colab": {
          "base_uri": "https://localhost:8080/"
        },
        "id": "Tgx6-41iYffV",
        "outputId": "5249b493-2d0a-4b92-8966-a8583b886e62"
      },
      "source": [
        "#######################################\n",
        "print(\"2. 객체에 숫자 지정할 수 있게 만들기\") \n",
        "# function setdata()  # method\n",
        "\n",
        "class FourCal:\n",
        "   def setdata(self, first, second):\n",
        "       self.first = first\n",
        "       self.second = second"
      ],
      "execution_count": 48,
      "outputs": [
        {
          "output_type": "stream",
          "text": [
            "2. 객체에 숫자 지정할 수 있게 만들기\n"
          ],
          "name": "stdout"
        }
      ]
    },
    {
      "cell_type": "code",
      "metadata": {
        "colab": {
          "base_uri": "https://localhost:8080/"
        },
        "id": "ccdLxMIYcpzl",
        "outputId": "c0c12c60-86a1-4ea9-e151-92647797bbc2"
      },
      "source": [
        "a = FourCal()\n",
        "a.setdata(4, 2)\n",
        "\n",
        "# 객체 변수\n",
        "a.first    # self.first\n",
        "a.second   # self.second   \n",
        "a.first, a.second"
      ],
      "execution_count": 49,
      "outputs": [
        {
          "output_type": "execute_result",
          "data": {
            "text/plain": [
              "(4, 2)"
            ]
          },
          "metadata": {
            "tags": []
          },
          "execution_count": 49
        }
      ]
    },
    {
      "cell_type": "code",
      "metadata": {
        "colab": {
          "base_uri": "https://localhost:8080/"
        },
        "id": "TLk9TcN3c9Bc",
        "outputId": "0fe7bbfb-47ff-401f-b850-7f5b51a6a10e"
      },
      "source": [
        "# 객체를 이용하기\n",
        "a = FourCal()\n",
        "b = FourCal()\n",
        "\n",
        "print(a is b)\n",
        "\n",
        "type(a), id(a), type(b), id(b)\n",
        "\n",
        "a.setdata(4, 2)\n",
        "print(a.first)\n",
        "b.setdata(3, 7)\n",
        "print(b.first)\n",
        "\n",
        "print(a.first)  # what value?\n",
        "# a 객체의 first 값은 b 객체의 first 값에 영향받지 않고 원래 값을 유지\n",
        "# 클래스로 만든 객체의 객체변수는 다른 객체의 객체변수에 상관없이 독립적인 값을 유지\n",
        "\n",
        "id(a.first), id(b.first)"
      ],
      "execution_count": 50,
      "outputs": [
        {
          "output_type": "stream",
          "text": [
            "False\n",
            "4\n",
            "3\n",
            "4\n"
          ],
          "name": "stdout"
        },
        {
          "output_type": "execute_result",
          "data": {
            "text/plain": [
              "(93895615523424, 93895615523392)"
            ]
          },
          "metadata": {
            "tags": []
          },
          "execution_count": 50
        }
      ]
    },
    {
      "cell_type": "code",
      "metadata": {
        "colab": {
          "base_uri": "https://localhost:8080/"
        },
        "id": "uWd6aSDueVvY",
        "outputId": "37a00090-6aa6-4f57-e449-3e64e5d045fa"
      },
      "source": [
        "#######################################\n",
        "print(\"3. 더하기 기능 만들기\")\n",
        "# function add()  # method\n",
        "\n",
        "class FourCal:\n",
        "    def setdata(self, first, second):\n",
        "        self.first = first\n",
        "        self.second = second\n",
        "\n",
        "    def add(self):\n",
        "        result = self.first + self.second\n",
        "        return result \n",
        "    \n",
        "\n",
        "a = FourCal()\n",
        "a.setdata(4, 2)\n",
        "a.add()"
      ],
      "execution_count": 51,
      "outputs": [
        {
          "output_type": "stream",
          "text": [
            "3. 더하기 기능 만들기\n"
          ],
          "name": "stdout"
        },
        {
          "output_type": "execute_result",
          "data": {
            "text/plain": [
              "6"
            ]
          },
          "metadata": {
            "tags": []
          },
          "execution_count": 51
        }
      ]
    },
    {
      "cell_type": "code",
      "metadata": {
        "colab": {
          "base_uri": "https://localhost:8080/"
        },
        "id": "GTQy_ob-gVcC",
        "outputId": "91f95bd9-d161-45ed-c26a-51958435751a"
      },
      "source": [
        "#######################################\n",
        "print(\"4. 곱하기, 빼기, 나누기 기능 추가\")\n",
        "# function sub(), mul(), div()\n",
        "\n",
        "class FourCal:\n",
        "    def setdata(self, first, second):\n",
        "        self.first = first\n",
        "        self.second = second\n",
        "        \n",
        "    def add(self):\n",
        "        result = self.first + self.second\n",
        "        return result\n",
        "\n",
        "    def sub(self):\n",
        "        result = self.first - self.second\n",
        "        return result\n",
        "\n",
        "    def mul(self):\n",
        "        result = self.first * self.second\n",
        "        return result\n",
        "\n",
        "    def div(self):\n",
        "        result = self.first / self.second\n",
        "        return result\n",
        "    \n",
        "\n",
        "  \n",
        "a = FourCal()\n",
        "b = FourCal()\n",
        "\n",
        "a.setdata(4, 2)\n",
        "b.setdata(3, 8)\n",
        "\n",
        "print(a.add(), a.sub(), a.mul(), a.div())\n",
        "b.add(), b.sub(), b.mul(), b.div()"
      ],
      "execution_count": 52,
      "outputs": [
        {
          "output_type": "stream",
          "text": [
            "4. 곱하기, 빼기, 나누기 기능 추가\n",
            "6 2 8 2.0\n"
          ],
          "name": "stdout"
        },
        {
          "output_type": "execute_result",
          "data": {
            "text/plain": [
              "(11, -5, 24, 0.375)"
            ]
          },
          "metadata": {
            "tags": []
          },
          "execution_count": 52
        }
      ]
    },
    {
      "cell_type": "markdown",
      "metadata": {
        "id": "gol6PT46jskg"
      },
      "source": [
        "### 생성자 (Constructor)\n",
        "- 클래스에 \\_\\_init\\_\\_() 로 정의"
      ]
    },
    {
      "cell_type": "code",
      "metadata": {
        "colab": {
          "base_uri": "https://localhost:8080/",
          "height": 343
        },
        "id": "oTGN3xaOiO8s",
        "outputId": "5d2a888d-840e-4895-dec3-b8e59fecbdf3"
      },
      "source": [
        "#######################################\n",
        "print(\"생성자 (Constructor)\")\n",
        "#######################################\n",
        "#\n",
        "# __init__() \n",
        "#\n",
        "\n",
        "a = FourCal()\n",
        "a.add()   #  AttributeError\n"
      ],
      "execution_count": 85,
      "outputs": [
        {
          "output_type": "stream",
          "text": [
            "생성자 (Constructor)\n"
          ],
          "name": "stdout"
        },
        {
          "output_type": "error",
          "ename": "AttributeError",
          "evalue": "ignored",
          "traceback": [
            "\u001b[0;31m---------------------------------------------------------------------------\u001b[0m",
            "\u001b[0;31mAttributeError\u001b[0m                            Traceback (most recent call last)",
            "\u001b[0;32m<ipython-input-85-d00dd1801871>\u001b[0m in \u001b[0;36m<module>\u001b[0;34m()\u001b[0m\n\u001b[1;32m      7\u001b[0m \u001b[0;34m\u001b[0m\u001b[0m\n\u001b[1;32m      8\u001b[0m \u001b[0ma\u001b[0m \u001b[0;34m=\u001b[0m \u001b[0mFourCal\u001b[0m\u001b[0;34m(\u001b[0m\u001b[0;34m)\u001b[0m\u001b[0;34m\u001b[0m\u001b[0;34m\u001b[0m\u001b[0m\n\u001b[0;32m----> 9\u001b[0;31m \u001b[0ma\u001b[0m\u001b[0;34m.\u001b[0m\u001b[0madd\u001b[0m\u001b[0;34m(\u001b[0m\u001b[0;34m)\u001b[0m   \u001b[0;31m#  AttributeError\u001b[0m\u001b[0;34m\u001b[0m\u001b[0;34m\u001b[0m\u001b[0m\n\u001b[0m",
            "\u001b[0;32m<ipython-input-52-3743f3bca89b>\u001b[0m in \u001b[0;36madd\u001b[0;34m(self)\u001b[0m\n\u001b[1;32m      9\u001b[0m \u001b[0;34m\u001b[0m\u001b[0m\n\u001b[1;32m     10\u001b[0m     \u001b[0;32mdef\u001b[0m \u001b[0madd\u001b[0m\u001b[0;34m(\u001b[0m\u001b[0mself\u001b[0m\u001b[0;34m)\u001b[0m\u001b[0;34m:\u001b[0m\u001b[0;34m\u001b[0m\u001b[0;34m\u001b[0m\u001b[0m\n\u001b[0;32m---> 11\u001b[0;31m         \u001b[0mresult\u001b[0m \u001b[0;34m=\u001b[0m \u001b[0mself\u001b[0m\u001b[0;34m.\u001b[0m\u001b[0mfirst\u001b[0m \u001b[0;34m+\u001b[0m \u001b[0mself\u001b[0m\u001b[0;34m.\u001b[0m\u001b[0msecond\u001b[0m\u001b[0;34m\u001b[0m\u001b[0;34m\u001b[0m\u001b[0m\n\u001b[0m\u001b[1;32m     12\u001b[0m         \u001b[0;32mreturn\u001b[0m \u001b[0mresult\u001b[0m\u001b[0;34m\u001b[0m\u001b[0;34m\u001b[0m\u001b[0m\n\u001b[1;32m     13\u001b[0m \u001b[0;34m\u001b[0m\u001b[0m\n",
            "\u001b[0;31mAttributeError\u001b[0m: 'FourCal' object has no attribute 'first'"
          ]
        }
      ]
    },
    {
      "cell_type": "code",
      "metadata": {
        "colab": {
          "base_uri": "https://localhost:8080/"
        },
        "id": "-oM69IIVPL-3",
        "outputId": "0bfc80ac-2f88-406d-f5ac-84136773b63b"
      },
      "source": [
        "#######################################\n",
        "class FourCal:\n",
        "    def __init__(self, first, second):\n",
        "        self.first = first\n",
        "        self.second = second\n",
        "\n",
        "    def setdata(self, first, second):\n",
        "        self.first = first\n",
        "        self.second = second\n",
        "        \n",
        "    def add(self):\n",
        "        result = self.first + self.second\n",
        "        return result\n",
        "\n",
        "    def sub(self):\n",
        "        result = self.first - self.second\n",
        "        return result\n",
        "\n",
        "    def mul(self):\n",
        "        result = self.first * self.second\n",
        "        return result\n",
        "\n",
        "    def div(self):\n",
        "        result = self.first / self.second\n",
        "        return result\n",
        "    \n",
        "\n",
        "#######################################\n",
        "\n",
        "# a = FourCal()   # TypeError:\n",
        "\n",
        "a = FourCal(4, 2)\n",
        "a.first, a.second\n",
        "\n",
        "a.mul(), a.div()\n",
        "\n",
        " "
      ],
      "execution_count": 86,
      "outputs": [
        {
          "output_type": "execute_result",
          "data": {
            "text/plain": [
              "(8, 2.0)"
            ]
          },
          "metadata": {
            "tags": []
          },
          "execution_count": 86
        }
      ]
    },
    {
      "cell_type": "markdown",
      "metadata": {
        "id": "EpfwX2bFSOJ0"
      },
      "source": [
        "### 킃래스의 상속\n",
        "- FourCal -> MoreFourCal"
      ]
    },
    {
      "cell_type": "markdown",
      "metadata": {
        "id": "1n2dQmZuTxqh"
      },
      "source": [
        ""
      ]
    },
    {
      "cell_type": "code",
      "metadata": {
        "id": "kiSkJMLrQWOu",
        "colab": {
          "base_uri": "https://localhost:8080/"
        },
        "outputId": "8e7184a0-26d8-4a12-891d-1e58cfe8a3c8"
      },
      "source": [
        " #######################################\n",
        "print(\"클래스의 상속\")\n",
        "# 상속은 기존 클래스를 변경하지 않고 기능을 추가하거나 \n",
        "# 기존 기능을 변경하려고 할 때 사용\n",
        "#######################################\n",
        "# \n",
        "# class 클래스 이름(상속할 클래스 이름)\n",
        "# \n",
        "# 클래스 FourCal를 상속하는 \n",
        "# class MoreFourCal\n",
        "# FourCal 클래스에 a^b (a의 b제곱)을 구할 수 있는 기능을 추가\n",
        "#\n",
        "\n",
        "class MoreFourCal(FourCal):\n",
        "    pass\n",
        " \n",
        "\n",
        "a = MoreFourCal(4, 2)\n",
        "a.add(), a.mul()"
      ],
      "execution_count": 87,
      "outputs": [
        {
          "output_type": "stream",
          "text": [
            "클래스의 상속\n"
          ],
          "name": "stdout"
        },
        {
          "output_type": "execute_result",
          "data": {
            "text/plain": [
              "(6, 8)"
            ]
          },
          "metadata": {
            "tags": []
          },
          "execution_count": 87
        }
      ]
    },
    {
      "cell_type": "markdown",
      "metadata": {
        "id": "YsH3FxVWU5YU"
      },
      "source": [
        "### MoreFourCal \n",
        "> 지수 계산 기능을 추가한 클래스"
      ]
    },
    {
      "cell_type": "markdown",
      "metadata": {
        "id": "GZe0C1z3U5TJ"
      },
      "source": [
        ""
      ]
    },
    {
      "cell_type": "code",
      "metadata": {
        "colab": {
          "base_uri": "https://localhost:8080/"
        },
        "id": "aSjgJDQOURlb",
        "outputId": "91cf9928-0993-474a-9bbf-e555fd189bd8"
      },
      "source": [
        "class MoreFourCal(FourCal):\n",
        "    def pow(self):\n",
        "        result = self.first ** self.second\n",
        "        return result\n",
        "    \n",
        "\n",
        "a = MoreFourCal(4, 2)\n",
        "print(a.add(), a.mul())\n",
        "\n",
        "a.pow()\n",
        "\n",
        "# 상속은 MoreFourCal 클래스처럼 기존 클래스(FourCal)는 \n",
        "# 그대로 놔둔 채 클래스의 기능을 확장시킬 때 주로 사용."
      ],
      "execution_count": 88,
      "outputs": [
        {
          "output_type": "stream",
          "text": [
            "6 8\n"
          ],
          "name": "stdout"
        },
        {
          "output_type": "execute_result",
          "data": {
            "text/plain": [
              "16"
            ]
          },
          "metadata": {
            "tags": []
          },
          "execution_count": 88
        }
      ]
    },
    {
      "cell_type": "markdown",
      "metadata": {
        "id": "RL-6bbWRWkRI"
      },
      "source": [
        "### 메서드 오버라이딩(재정의)"
      ]
    },
    {
      "cell_type": "code",
      "metadata": {
        "colab": {
          "base_uri": "https://localhost:8080/",
          "height": 343
        },
        "id": "1raG6R73Vs3X",
        "outputId": "d9e2bf97-2896-466d-d033-26aee62ec24f"
      },
      "source": [
        "#######################################\n",
        "print(\"메서드 오버라이딩\")\n",
        "# 기존의 함수(메소드)를 수정/보완하여 재정의\n",
        "#######################################\n",
        "# \n",
        "a = FourCal(4, 0)\n",
        "a.div()  # ZeroDivisionError:\n"
      ],
      "execution_count": 89,
      "outputs": [
        {
          "output_type": "stream",
          "text": [
            "메서드 오버라이딩\n"
          ],
          "name": "stdout"
        },
        {
          "output_type": "error",
          "ename": "ZeroDivisionError",
          "evalue": "ignored",
          "traceback": [
            "\u001b[0;31m---------------------------------------------------------------------------\u001b[0m",
            "\u001b[0;31mZeroDivisionError\u001b[0m                         Traceback (most recent call last)",
            "\u001b[0;32m<ipython-input-89-c9ccbdaaffb6>\u001b[0m in \u001b[0;36m<module>\u001b[0;34m()\u001b[0m\n\u001b[1;32m      5\u001b[0m \u001b[0;31m#\u001b[0m\u001b[0;34m\u001b[0m\u001b[0;34m\u001b[0m\u001b[0;34m\u001b[0m\u001b[0m\n\u001b[1;32m      6\u001b[0m \u001b[0ma\u001b[0m \u001b[0;34m=\u001b[0m \u001b[0mFourCal\u001b[0m\u001b[0;34m(\u001b[0m\u001b[0;36m4\u001b[0m\u001b[0;34m,\u001b[0m \u001b[0;36m0\u001b[0m\u001b[0;34m)\u001b[0m\u001b[0;34m\u001b[0m\u001b[0;34m\u001b[0m\u001b[0m\n\u001b[0;32m----> 7\u001b[0;31m \u001b[0ma\u001b[0m\u001b[0;34m.\u001b[0m\u001b[0mdiv\u001b[0m\u001b[0;34m(\u001b[0m\u001b[0;34m)\u001b[0m  \u001b[0;31m# ZeroDivisionError:\u001b[0m\u001b[0;34m\u001b[0m\u001b[0;34m\u001b[0m\u001b[0m\n\u001b[0m",
            "\u001b[0;32m<ipython-input-86-fbd710d34011>\u001b[0m in \u001b[0;36mdiv\u001b[0;34m(self)\u001b[0m\n\u001b[1;32m     22\u001b[0m \u001b[0;34m\u001b[0m\u001b[0m\n\u001b[1;32m     23\u001b[0m     \u001b[0;32mdef\u001b[0m \u001b[0mdiv\u001b[0m\u001b[0;34m(\u001b[0m\u001b[0mself\u001b[0m\u001b[0;34m)\u001b[0m\u001b[0;34m:\u001b[0m\u001b[0;34m\u001b[0m\u001b[0;34m\u001b[0m\u001b[0m\n\u001b[0;32m---> 24\u001b[0;31m         \u001b[0mresult\u001b[0m \u001b[0;34m=\u001b[0m \u001b[0mself\u001b[0m\u001b[0;34m.\u001b[0m\u001b[0mfirst\u001b[0m \u001b[0;34m/\u001b[0m \u001b[0mself\u001b[0m\u001b[0;34m.\u001b[0m\u001b[0msecond\u001b[0m\u001b[0;34m\u001b[0m\u001b[0;34m\u001b[0m\u001b[0m\n\u001b[0m\u001b[1;32m     25\u001b[0m         \u001b[0;32mreturn\u001b[0m \u001b[0mresult\u001b[0m\u001b[0;34m\u001b[0m\u001b[0;34m\u001b[0m\u001b[0m\n\u001b[1;32m     26\u001b[0m \u001b[0;34m\u001b[0m\u001b[0m\n",
            "\u001b[0;31mZeroDivisionError\u001b[0m: division by zero"
          ]
        }
      ]
    },
    {
      "cell_type": "code",
      "metadata": {
        "colab": {
          "base_uri": "https://localhost:8080/"
        },
        "id": "GQwM1RL8Xarl",
        "outputId": "26b65267-dcd9-47e9-e2ce-a2bac6878188"
      },
      "source": [
        "# 메서드 오버라이딩 (Overriding)\n",
        "class SafeFourCal(FourCal):\n",
        "    def div(self):\n",
        "        if self.second == 0:  # 나누는 값이 0인 경우 0을 리턴하도록 수정\n",
        "            print(\"분모는 0을 사용할 수 없다.\")\n",
        "            return 0\n",
        "        else:\n",
        "            return self.first / self.second\n",
        "    \n",
        "\n",
        "\n",
        "a = SafeFourCal(4, 0)\n",
        "a.div()  # 메서드 오버라이딩 사용"
      ],
      "execution_count": 90,
      "outputs": [
        {
          "output_type": "stream",
          "text": [
            "분모는 0을 사용할 수 없다.\n"
          ],
          "name": "stdout"
        },
        {
          "output_type": "execute_result",
          "data": {
            "text/plain": [
              "0"
            ]
          },
          "metadata": {
            "tags": []
          },
          "execution_count": 90
        }
      ]
    },
    {
      "cell_type": "code",
      "metadata": {
        "colab": {
          "base_uri": "https://localhost:8080/"
        },
        "id": "kMSnQ5ytZlLi",
        "outputId": "5e0bc17a-deb8-4686-9e31-0519fce4047a"
      },
      "source": [
        "b = SafeFourCal(4,2)\n",
        "b.div()"
      ],
      "execution_count": 91,
      "outputs": [
        {
          "output_type": "execute_result",
          "data": {
            "text/plain": [
              "2.0"
            ]
          },
          "metadata": {
            "tags": []
          },
          "execution_count": 91
        }
      ]
    },
    {
      "cell_type": "markdown",
      "metadata": {
        "id": "-h0pZdjYaaXm"
      },
      "source": [
        "### 클래스 변수"
      ]
    },
    {
      "cell_type": "code",
      "metadata": {
        "colab": {
          "base_uri": "https://localhost:8080/"
        },
        "id": "3Rr4Ju7WXW7w",
        "outputId": "f7c5b7a2-6196-49ef-f478-6fc93c7a6896"
      },
      "source": [
        "#######################################\n",
        "print(\"클래스 변수\")\n",
        "# 객체변수와 클래스변수의 차이?\n",
        "# 객체변수   :   객체.변수\n",
        "# 클래스변수 : 클래스.변수\n",
        "#######################################\n",
        "# \n",
        "class Family:\n",
        "    lastname = \"김\"   # 클래스변수"
      ],
      "execution_count": 92,
      "outputs": [
        {
          "output_type": "stream",
          "text": [
            "클래스 변수\n"
          ],
          "name": "stdout"
        }
      ]
    },
    {
      "cell_type": "code",
      "metadata": {
        "colab": {
          "base_uri": "https://localhost:8080/",
          "height": 35
        },
        "id": "52B5hPbBbNJm",
        "outputId": "421c6b13-f4a0-4a33-f45e-6bfdd50e7aa7"
      },
      "source": [
        "# 클래스이름.클래스 변수로 사용\n",
        "Family.lastname # 객체를 통하지 않고 바로 접근"
      ],
      "execution_count": 66,
      "outputs": [
        {
          "output_type": "execute_result",
          "data": {
            "application/vnd.google.colaboratory.intrinsic+json": {
              "type": "string"
            },
            "text/plain": [
              "'김'"
            ]
          },
          "metadata": {
            "tags": []
          },
          "execution_count": 66
        }
      ]
    },
    {
      "cell_type": "code",
      "metadata": {
        "colab": {
          "base_uri": "https://localhost:8080/"
        },
        "id": "WevEJC5ab109",
        "outputId": "0dad050e-e363-4f80-e6d6-e9009220b4ae"
      },
      "source": [
        "# 객체변수로 접근\n",
        "a = Family()\n",
        "b = Family()\n",
        "\n",
        "print(a.lastname)\n",
        "print(b.lastname)\n",
        "id(a.lastname), id(b.lastname) , id(a.lastname) == id(b.lastname) "
      ],
      "execution_count": 67,
      "outputs": [
        {
          "output_type": "stream",
          "text": [
            "김\n",
            "김\n"
          ],
          "name": "stdout"
        },
        {
          "output_type": "execute_result",
          "data": {
            "text/plain": [
              "(140111552801808, 140111552801808, True)"
            ]
          },
          "metadata": {
            "tags": []
          },
          "execution_count": 67
        }
      ]
    },
    {
      "cell_type": "code",
      "metadata": {
        "colab": {
          "base_uri": "https://localhost:8080/"
        },
        "id": "byyVUx3LbUBo",
        "outputId": "287e3845-3749-4a76-b097-d6314be062a7"
      },
      "source": [
        "# 클래스변수를 변경하면?\n",
        "Family.lastname = \"박\"\n",
        "\n",
        "print(a.lastname)\n",
        "print(b.lastname)\n",
        "id(a.lastname), id(b.lastname), id(Family.lastname)\n",
        "# 클래스 변수가 공유됨을 확인."
      ],
      "execution_count": 68,
      "outputs": [
        {
          "output_type": "stream",
          "text": [
            "박\n",
            "박\n"
          ],
          "name": "stdout"
        },
        {
          "output_type": "execute_result",
          "data": {
            "text/plain": [
              "(140111552984928, 140111552984928, 140111552984928)"
            ]
          },
          "metadata": {
            "tags": []
          },
          "execution_count": 68
        }
      ]
    },
    {
      "cell_type": "code",
      "metadata": {
        "colab": {
          "base_uri": "https://localhost:8080/"
        },
        "id": "wkIMceKXdeGM",
        "outputId": "07f3fe82-2a79-4f52-c36b-47edcbe71ff5"
      },
      "source": [
        "# 객체변수를 변경하면?\n",
        "a.lastname = \"이\"\n",
        "a.lastname, b.lastname, Family.lastname\n",
        "id(a.lastname), id(b.lastname), id(Family.lastname)\n",
        "\n",
        "# 실무 프로그래밍에는 클래스 변수보다는 객체변수를 많이 사용.\n"
      ],
      "execution_count": 69,
      "outputs": [
        {
          "output_type": "execute_result",
          "data": {
            "text/plain": [
              "(140111545619360, 140111552984928, 140111552984928)"
            ]
          },
          "metadata": {
            "tags": []
          },
          "execution_count": 69
        }
      ]
    },
    {
      "cell_type": "markdown",
      "metadata": {
        "id": "LjvAt0CngAZ0"
      },
      "source": [
        "## 모듈 (module)"
      ]
    },
    {
      "cell_type": "markdown",
      "metadata": {
        "id": "InFiozTjVOrv"
      },
      "source": [
        "- 모듈\n",
        "   - 모듈 만들기\n",
        "   - 모듈 불러오기\n",
        "   - if __name__ == \"__main__\": 의 의미\n",
        "   - 클래스나 변수 등을 포함한 모듈\n",
        "   - 다른 파일에서 모듈 불러오기"
      ]
    },
    {
      "cell_type": "code",
      "metadata": {
        "id": "-1H6FtDIVauP",
        "colab": {
          "base_uri": "https://localhost:8080/"
        },
        "outputId": "a8dce0e1-9c67-4e9f-a3b0-fd1188fcba90"
      },
      "source": [
        "# ch5_02_module.py\n",
        "#\n",
        "print(\"모듈이란 무엇인가?\")\n",
        "#######################################\n",
        "# 모듈이란 함수나 변수 또는 클래스를 모아 놓은 파이썬 파일\n",
        "#######################################"
      ],
      "execution_count": 62,
      "outputs": [
        {
          "output_type": "stream",
          "text": [
            "모듈이란 무엇인가?\n"
          ],
          "name": "stdout"
        }
      ]
    },
    {
      "cell_type": "markdown",
      "metadata": {
        "id": "T65-_7aChZqn"
      },
      "source": [
        "### 모듈 만들기"
      ]
    },
    {
      "cell_type": "code",
      "metadata": {
        "colab": {
          "base_uri": "https://localhost:8080/",
          "height": 52
        },
        "id": "zL9UEJflhCha",
        "outputId": "894e3bcd-0bc9-457e-c521-60a3cc18c0da"
      },
      "source": [
        "print(\"모듈 만들기\")\n",
        "#######################################\n",
        "# 간단한 모듈을 한번 만들어 보자.\n",
        "#######################################\n",
        "# \n",
        "\n",
        "# mod1.py를 현재 폴더에 저장\n",
        "'''\n",
        "# mod1.py\n",
        "def add(a, b):\n",
        "    return a + b\n",
        "def sub(a, b): \n",
        "    return a-b\n",
        "'''\n",
        "\n",
        "# 파이썬 확장자 .py로 만든 파이썬 파일은 모두 모듈이다."
      ],
      "execution_count": 61,
      "outputs": [
        {
          "output_type": "stream",
          "text": [
            "모듈 만들기\n"
          ],
          "name": "stdout"
        },
        {
          "output_type": "execute_result",
          "data": {
            "application/vnd.google.colaboratory.intrinsic+json": {
              "type": "string"
            },
            "text/plain": [
              "'\\n# mod1.py\\ndef add(a, b):\\n    return a + b\\ndef sub(a, b): \\n    return a-b\\n'"
            ]
          },
          "metadata": {
            "tags": []
          },
          "execution_count": 61
        }
      ]
    },
    {
      "cell_type": "markdown",
      "metadata": {
        "id": "tPM_s9xijRue"
      },
      "source": [
        "### 모듈 불러오기\n",
        "- import *.py"
      ]
    },
    {
      "cell_type": "code",
      "metadata": {
        "colab": {
          "base_uri": "https://localhost:8080/"
        },
        "id": "NmPllQEljBO0",
        "outputId": "00b1c89a-33b5-4a10-b9d4-a2b51db2cb26"
      },
      "source": [
        "print(\"모듈 불러오기\")\n",
        "#######################################\n",
        "# import 모듈명\n",
        "# import는 이미 만들어 놓은 파이썬 모듈을 사용할 수 있게 해주는 명령어\n",
        "#######################################\n",
        "# \n",
        "# 현재 폴더에 있는 모듈, mod1.py를 연결하기.\n",
        "#\n",
        "import mod1\n",
        "\n",
        "print(mod1.add(3, 4))\n",
        "\n",
        "print(mod1.sub(7, 2))"
      ],
      "execution_count": 60,
      "outputs": [
        {
          "output_type": "stream",
          "text": [
            "모듈 불러오기\n",
            "7\n",
            "5\n"
          ],
          "name": "stdout"
        }
      ]
    },
    {
      "cell_type": "code",
      "metadata": {
        "colab": {
          "base_uri": "https://localhost:8080/"
        },
        "id": "YCaBdWBzmktl",
        "outputId": "bbf4871a-91f9-443d-a295-6aeb64a689fe"
      },
      "source": [
        "from mod1 import *\n",
        "add(10,20), sub(10,20)"
      ],
      "execution_count": 59,
      "outputs": [
        {
          "output_type": "execute_result",
          "data": {
            "text/plain": [
              "(30, -10)"
            ]
          },
          "metadata": {
            "tags": []
          },
          "execution_count": 59
        }
      ]
    },
    {
      "cell_type": "code",
      "metadata": {
        "colab": {
          "base_uri": "https://localhost:8080/"
        },
        "id": "E0xVsUkijy4B",
        "outputId": "3a121f07-9e58-42c7-86bb-6ed9c3bd5784"
      },
      "source": [
        "#######################################\n",
        "# 모듈 내부 함수 이용\n",
        "# from 모듈이름 import 모듈함수\n",
        "#######################################\n",
        "#\n",
        "from mod1 import add\n",
        "add(3, 4)\n",
        "\n",
        "# from 모듈이름 import *\n",
        "# from mod1 import add, sub\n",
        "from mod1 import *\n",
        "\n",
        "add(3, 4)\n",
        "sub(7, 3)"
      ],
      "execution_count": 58,
      "outputs": [
        {
          "output_type": "stream",
          "text": [
            "5\n",
            "2\n"
          ],
          "name": "stdout"
        },
        {
          "output_type": "execute_result",
          "data": {
            "text/plain": [
              "4"
            ]
          },
          "metadata": {
            "tags": []
          },
          "execution_count": 58
        }
      ]
    },
    {
      "cell_type": "code",
      "metadata": {
        "id": "yCogJiM3mFHa",
        "colab": {
          "base_uri": "https://localhost:8080/",
          "height": 35
        },
        "outputId": "4fefea23-9d40-40d4-fb88-8b5bd99775ff"
      },
      "source": [
        "print(\"if __name__ == \"__main__\": 의 의미\")\n",
        "#######################################\n",
        "# import 모듈명\n",
        "# import는 이미 만들어 놓은 파이썬 모듈을 \n",
        "# 사용할 수 있게 해주는 명령어\n",
        "#######################################\n",
        "# \n",
        "\n",
        "# mod1.py 파일을 다음과 같이 변경해 보자.\n",
        "'''\n",
        "# mod1.py \n",
        "def add(a, b): \n",
        "    return a+b\n",
        "def sub(a, b): \n",
        "    return a-b\n",
        "print(add(1, 4))\n",
        "print(sub(4, 2))\n",
        "'''\n",
        "\n",
        "###################################\n",
        "# cmd에서 실행하시오.\n",
        "# python mod1.py\n",
        "###################################\n",
        "'''\n",
        "python mod1.py\n",
        "5\n",
        "2\n",
        "'''"
      ],
      "execution_count": 94,
      "outputs": [
        {
          "output_type": "execute_result",
          "data": {
            "application/vnd.google.colaboratory.intrinsic+json": {
              "type": "string"
            },
            "text/plain": [
              "'\\npython mod1.py\\n5\\n2\\n'"
            ]
          },
          "metadata": {
            "tags": []
          },
          "execution_count": 94
        }
      ]
    },
    {
      "cell_type": "code",
      "metadata": {
        "colab": {
          "base_uri": "https://localhost:8080/"
        },
        "id": "ntgZETvAoGSy",
        "outputId": "561aa704-3a29-4cec-b9d6-f6d85f505892"
      },
      "source": [
        "run mod1.py"
      ],
      "execution_count": 95,
      "outputs": [
        {
          "output_type": "stream",
          "text": [
            "5\n",
            "2\n"
          ],
          "name": "stdout"
        }
      ]
    },
    {
      "cell_type": "code",
      "metadata": {
        "colab": {
          "base_uri": "https://localhost:8080/"
        },
        "id": "AsitRYkpoDLJ",
        "outputId": "ed493c3e-60fd-4557-cc34-f31672caafbd"
      },
      "source": [
        "import mod1\n",
        "# 5\n",
        "# 2\n",
        "print(__name__)"
      ],
      "execution_count": 96,
      "outputs": [
        {
          "output_type": "stream",
          "text": [
            "__main__\n"
          ],
          "name": "stdout"
        }
      ]
    },
    {
      "cell_type": "code",
      "metadata": {
        "id": "Km0c29B2oKp2"
      },
      "source": [
        "'''\n",
        "# mod2.py \n",
        "def add(a, b): \n",
        "    return a+b\n",
        "def sub(a, b): \n",
        "    return a-b\n",
        "if __name__ == \"__main__\":\n",
        "    print(add(1, 4))\n",
        "    print(sub(4, 2))\n",
        "'''\n",
        "\n",
        "import mod2\n",
        "# print(__name__)\n",
        "# if __name__ == \"__main__\"을 사용하면 C:\\doit>python mod1.py처럼 \n",
        "# 직접 이 파일을 실행했을 때는 __name__ == \"__main__\"이 참이 되어 \n",
        "# if문 다음 문장이 수행된다. \n",
        "# 반대로 대화형 인터프리터나 다른 파일에서 이 모듈을 불러서 사용할 때는 \n",
        "# __name__ == \"__main__\"이 거짓이 되어 if문 다음 문장이 수행되지 않는다.\n",
        "#"
      ],
      "execution_count": 97,
      "outputs": []
    },
    {
      "cell_type": "code",
      "metadata": {
        "colab": {
          "base_uri": "https://localhost:8080/"
        },
        "id": "Of8E_v3RryOx",
        "outputId": "c7a11f60-13d7-43b8-89c7-5a2a2f1ee3bd"
      },
      "source": [
        "run mod2.py"
      ],
      "execution_count": 98,
      "outputs": [
        {
          "output_type": "stream",
          "text": [
            "5\n",
            "2\n"
          ],
          "name": "stdout"
        }
      ]
    },
    {
      "cell_type": "code",
      "metadata": {
        "colab": {
          "base_uri": "https://localhost:8080/"
        },
        "id": "zeCLH0anss0y",
        "outputId": "d90ee38e-af28-4548-e29c-96667c84f2af"
      },
      "source": [
        "!python mod2.py"
      ],
      "execution_count": 99,
      "outputs": [
        {
          "output_type": "stream",
          "text": [
            "5\n",
            "2\n"
          ],
          "name": "stdout"
        }
      ]
    },
    {
      "cell_type": "markdown",
      "metadata": {
        "id": "2KcwTjZBtGc5"
      },
      "source": [
        "## 12주에 계속"
      ]
    },
    {
      "cell_type": "markdown",
      "metadata": {
        "id": "S75YShRnSagp"
      },
      "source": [
        "### 모듈 확장\n",
        "- 함수\n",
        "- 변수\n",
        "- 클래스"
      ]
    },
    {
      "cell_type": "code",
      "metadata": {
        "id": "ZJLBd9fdrf9q",
        "colab": {
          "base_uri": "https://localhost:8080/",
          "height": 52
        },
        "outputId": "3be6971e-3d85-4251-f998-bc3e1a6e9faa"
      },
      "source": [
        "print(\"클래스나 변수 등을 포함한 모듈\")\n",
        "#######################################\n",
        "# 클래스나 변수 등을 포함하는 모듈\n",
        "#######################################\n",
        "# \n",
        "'''\n",
        "# mod3.py \n",
        "PI = 3.141592\n",
        "class Math: \n",
        "    def solv(self, r): \n",
        "        return PI * (r ** 2)  \n",
        "def add(a, b): \n",
        "    return a+b  \n",
        "'''"
      ],
      "execution_count": 100,
      "outputs": [
        {
          "output_type": "stream",
          "text": [
            "클래스나 변수 등을 포함한 모듈\n"
          ],
          "name": "stdout"
        },
        {
          "output_type": "execute_result",
          "data": {
            "application/vnd.google.colaboratory.intrinsic+json": {
              "type": "string"
            },
            "text/plain": [
              "'\\n# mod3.py \\nPI = 3.141592\\nclass Math: \\n    def solv(self, r): \\n        return PI * (r ** 2)  \\ndef add(a, b): \\n    return a+b  \\n'"
            ]
          },
          "metadata": {
            "tags": []
          },
          "execution_count": 100
        }
      ]
    },
    {
      "cell_type": "code",
      "metadata": {
        "colab": {
          "base_uri": "https://localhost:8080/"
        },
        "id": "Fi6lTgxHTGNW",
        "outputId": "43f0b910-04de-4f10-82b5-99fe61f643cc"
      },
      "source": [
        "import mod3\n",
        "\n",
        "print(mod3.PI)\n",
        "\n",
        "a = mod3.Math()\n",
        "print(a.solv(2))\n",
        "\n",
        "print(mod3.add(mod3.PI, 4.4)) \n"
      ],
      "execution_count": 101,
      "outputs": [
        {
          "output_type": "stream",
          "text": [
            "3.141592\n",
            "12.566368\n",
            "7.5415920000000005\n"
          ],
          "name": "stdout"
        }
      ]
    },
    {
      "cell_type": "markdown",
      "metadata": {
        "id": "RsBWn4HkFGP1"
      },
      "source": [
        "### 다른 파일에서 모듈 불러오기"
      ]
    },
    {
      "cell_type": "code",
      "metadata": {
        "colab": {
          "base_uri": "https://localhost:8080/",
          "height": 52
        },
        "id": "iEuTPutqAzzR",
        "outputId": "4a489c57-9504-410f-e51d-26598683f94f"
      },
      "source": [
        "\n",
        "print(\"다른 파일에서 모듈 불러오기\")\n",
        "#######################################\n",
        "# 다른 파이썬 파일에서 이전에 만들어 놓은 \n",
        "# 모듈을 불러와서 사용하는 방법\n",
        "#######################################\n",
        "# \n",
        "'''\n",
        "# modtest.py\n",
        "import mod2\n",
        "result = mod2.add(3, 4)\n",
        "print(result)\n",
        "'''\n",
        "###################################\n",
        "# cmd에서 실행하시오.\n",
        "# python modtest.py\n",
        "###################################"
      ],
      "execution_count": 102,
      "outputs": [
        {
          "output_type": "stream",
          "text": [
            "다른 파일에서 모듈 불러오기\n"
          ],
          "name": "stdout"
        },
        {
          "output_type": "execute_result",
          "data": {
            "application/vnd.google.colaboratory.intrinsic+json": {
              "type": "string"
            },
            "text/plain": [
              "'\\n# modtest.py\\nimport mod2\\nresult = mod2.add(3, 4)\\nprint(result)\\n'"
            ]
          },
          "metadata": {
            "tags": []
          },
          "execution_count": 102
        }
      ]
    },
    {
      "cell_type": "code",
      "metadata": {
        "colab": {
          "base_uri": "https://localhost:8080/"
        },
        "id": "0_P1sDtWF0_h",
        "outputId": "efe93801-068e-4743-b45f-15fa54fbf0d3"
      },
      "source": [
        "run modtest.py"
      ],
      "execution_count": 103,
      "outputs": [
        {
          "output_type": "stream",
          "text": [
            "7\n"
          ],
          "name": "stdout"
        }
      ]
    },
    {
      "cell_type": "markdown",
      "metadata": {
        "id": "tAC9slYDHYgp"
      },
      "source": [
        "### 내장 모듈 사용해보기\n",
        "- sys"
      ]
    },
    {
      "cell_type": "code",
      "metadata": {
        "colab": {
          "base_uri": "https://localhost:8080/"
        },
        "id": "cQl0NtBuFN4t",
        "outputId": "045a6114-334e-4678-a71c-2ba06cf4e087"
      },
      "source": [
        "# 참고: 현재 폴더로 경로 설정 (path)\n",
        "import sys\n",
        "sys.path.append(\"d:/mydir\")\n",
        "sys.path"
      ],
      "execution_count": 104,
      "outputs": [
        {
          "output_type": "execute_result",
          "data": {
            "text/plain": [
              "['',\n",
              " '/content',\n",
              " '/env/python',\n",
              " '/usr/lib/python37.zip',\n",
              " '/usr/lib/python3.7',\n",
              " '/usr/lib/python3.7/lib-dynload',\n",
              " '/usr/local/lib/python3.7/dist-packages',\n",
              " '/usr/lib/python3/dist-packages',\n",
              " '/usr/local/lib/python3.7/dist-packages/IPython/extensions',\n",
              " '/root/.ipython',\n",
              " 'current_path',\n",
              " 'd:/mydir',\n",
              " './sample_data',\n",
              " 'd:/mydir']"
            ]
          },
          "metadata": {
            "tags": []
          },
          "execution_count": 104
        }
      ]
    },
    {
      "cell_type": "code",
      "metadata": {
        "colab": {
          "base_uri": "https://localhost:8080/"
        },
        "id": "-R4UE0lnJ2SA",
        "outputId": "20decac9-2782-4804-800b-96b4c245db5e"
      },
      "source": [
        "sys.path.append(\"./sample_data\")\n",
        "sys.path"
      ],
      "execution_count": 105,
      "outputs": [
        {
          "output_type": "execute_result",
          "data": {
            "text/plain": [
              "['',\n",
              " '/content',\n",
              " '/env/python',\n",
              " '/usr/lib/python37.zip',\n",
              " '/usr/lib/python3.7',\n",
              " '/usr/lib/python3.7/lib-dynload',\n",
              " '/usr/local/lib/python3.7/dist-packages',\n",
              " '/usr/lib/python3/dist-packages',\n",
              " '/usr/local/lib/python3.7/dist-packages/IPython/extensions',\n",
              " '/root/.ipython',\n",
              " 'current_path',\n",
              " 'd:/mydir',\n",
              " './sample_data',\n",
              " 'd:/mydir',\n",
              " './sample_data']"
            ]
          },
          "metadata": {
            "tags": []
          },
          "execution_count": 105
        }
      ]
    },
    {
      "cell_type": "markdown",
      "metadata": {
        "id": "P_LQUpmBbrSP"
      },
      "source": [
        "## 패키지"
      ]
    },
    {
      "cell_type": "markdown",
      "metadata": {
        "id": "DFZHMh5pVq82"
      },
      "source": [
        "- 패키지\n",
        "   - 패키지란 무엇인가?\n",
        "   - 패키지 만들기\n",
        "   - 패키지 안의 함수 실행하기\n",
        "   - __init__.py 의 용도\n",
        "   - relative 패키지"
      ]
    },
    {
      "cell_type": "code",
      "metadata": {
        "id": "6gy_Dc0qCkvI"
      },
      "source": [
        "PI = 3.141592\n",
        "class mod3:\n",
        "  def solv(self,r):\n",
        "    return Pi*(r**2)\n",
        "  def add(a,b):\n",
        "    return a+b"
      ],
      "execution_count": 106,
      "outputs": []
    },
    {
      "cell_type": "code",
      "metadata": {
        "colab": {
          "base_uri": "https://localhost:8080/"
        },
        "id": "1uwBMw4ZC5zQ",
        "outputId": "f88ab1be-08a0-4138-87c6-6aff24db7361"
      },
      "source": [
        "import mod3\n",
        "print(mod3.PI)\n",
        "a = mod3.Math()\n",
        "print(a.solv(2))\n",
        "print(mod3.add(mod3.PI,4.4))"
      ],
      "execution_count": 107,
      "outputs": [
        {
          "output_type": "stream",
          "text": [
            "3.141592\n",
            "12.566368\n",
            "7.5415920000000005\n"
          ],
          "name": "stdout"
        }
      ]
    },
    {
      "cell_type": "code",
      "metadata": {
        "id": "fGBlcLGN-3pd",
        "colab": {
          "base_uri": "https://localhost:8080/",
          "height": 70
        },
        "outputId": "4abe4946-01e2-4988-9278-2523c0c08369"
      },
      "source": [
        "# ch5_03_package.py\n",
        "#\n",
        "print(\"패키지란 무엇인가?\")\n",
        "#######################################\n",
        "# 파이썬 모듈들을 모아놓은 폴더로 구성\n",
        "# 유사한 기능을 가진 모듈들을 묶어서 구성\n",
        "#######################################\n",
        "#\n",
        "# 가상의 game 패키지 예\n",
        "#\n",
        "\"\"\"\n",
        "game/\n",
        "    __init__.py\n",
        "    sound/\n",
        "        __init__.py\n",
        "        echo.py\n",
        "        wav.py\n",
        "    graphic/\n",
        "        __init__.py\n",
        "        screen.py\n",
        "        render.py\n",
        "    play/\n",
        "        __init__.py\n",
        "        run.py\n",
        "        test.py\n",
        "\"\"\"\n",
        "# game 디렉터리가 이 패키지의 루트 디렉터리이고\n",
        "# sound, graphic, play는 서브 디렉터리이다."
      ],
      "execution_count": 108,
      "outputs": [
        {
          "output_type": "stream",
          "text": [
            "패키지란 무엇인가?\n"
          ],
          "name": "stdout"
        },
        {
          "output_type": "execute_result",
          "data": {
            "application/vnd.google.colaboratory.intrinsic+json": {
              "type": "string"
            },
            "text/plain": [
              "'\\ngame/\\n    __init__.py\\n    sound/\\n        __init__.py\\n        echo.py\\n        wav.py\\n    graphic/\\n        __init__.py\\n        screen.py\\n        render.py\\n    play/\\n        __init__.py\\n        run.py\\n        test.py\\n'"
            ]
          },
          "metadata": {
            "tags": []
          },
          "execution_count": 108
        }
      ]
    },
    {
      "cell_type": "code",
      "metadata": {
        "colab": {
          "base_uri": "https://localhost:8080/"
        },
        "id": "6C4zk7mJfwBQ",
        "outputId": "a770b709-8f3d-430f-a002-99d806ca1b46"
      },
      "source": [
        "!cd('content')"
      ],
      "execution_count": 109,
      "outputs": [
        {
          "output_type": "stream",
          "text": [
            "/bin/bash: -c: line 0: syntax error near unexpected token `'content''\n",
            "/bin/bash: -c: line 0: `cd('content')'\n"
          ],
          "name": "stdout"
        }
      ]
    },
    {
      "cell_type": "code",
      "metadata": {
        "colab": {
          "base_uri": "https://localhost:8080/",
          "height": 35
        },
        "id": "nGAaFpiqgBI0",
        "outputId": "82f43615-b85b-4790-de17-7264adaf5204"
      },
      "source": [
        "import os\n",
        "os.getcwd()\n",
        "# os.chdir('./content')"
      ],
      "execution_count": 110,
      "outputs": [
        {
          "output_type": "execute_result",
          "data": {
            "application/vnd.google.colaboratory.intrinsic+json": {
              "type": "string"
            },
            "text/plain": [
              "'/content'"
            ]
          },
          "metadata": {
            "tags": []
          },
          "execution_count": 110
        }
      ]
    },
    {
      "cell_type": "code",
      "metadata": {
        "colab": {
          "base_uri": "https://localhost:8080/",
          "height": 70
        },
        "id": "RuEdgaIKfeht",
        "outputId": "65659632-2f2d-4c23-c7d3-d7c81799101c"
      },
      "source": [
        "print(\"패키지 만들기\")\n",
        "#######################################\n",
        "# 패키지 기본 구성 요소 준비하기\n",
        "#######################################\n",
        "# 1. 루트폴더, 서버폴더 만들기\n",
        "# 2. *.py 소스파일 준비\n",
        "\n",
        "#\n",
        "# 1. 루트폴더, 서버폴더 만들기\n",
        "\"\"\"\n",
        "./game/__init__.py\n",
        "./game/sound/__init__.py\n",
        "./game/sound/echo.py\n",
        "./game/graphic/__init__.py\n",
        "./game/graphic/render.py\n",
        "\"\"\"\n",
        "\n",
        "#\n",
        "# 2. *.py 소스파일 준비\n",
        "\"\"\"\n",
        "각 디렉터리에 __init__.py 파일을 만들어 놓기만 하고 \n",
        "내용은 일단 비워 둔다.\n",
        "# echo.py\n",
        "def echo_test():\n",
        "    print (\"echo\")\n",
        "# render.py\n",
        "def render_test():\n",
        "    print (\"render\")\n",
        "\"\"\"\n",
        "# 현재 폴더 내에 game 폴더가 포함됨.\n",
        "#"
      ],
      "execution_count": 112,
      "outputs": [
        {
          "output_type": "stream",
          "text": [
            "패키지 만들기\n"
          ],
          "name": "stdout"
        },
        {
          "output_type": "execute_result",
          "data": {
            "application/vnd.google.colaboratory.intrinsic+json": {
              "type": "string"
            },
            "text/plain": [
              "'\\n각 디렉터리에 __init__.py 파일을 만들어 놓기만 하고 \\n내용은 일단 비워 둔다.\\n# echo.py\\ndef echo_test():\\n    print (\"echo\")\\n# render.py\\ndef render_test():\\n    print (\"render\")\\n'"
            ]
          },
          "metadata": {
            "tags": []
          },
          "execution_count": 112
        }
      ]
    },
    {
      "cell_type": "markdown",
      "metadata": {
        "id": "CdQTRQ3Vm8BK"
      },
      "source": [
        "### 패키지 안의 함수 실행하기"
      ]
    },
    {
      "cell_type": "code",
      "metadata": {
        "colab": {
          "base_uri": "https://localhost:8080/"
        },
        "id": "tLzw1STemu8h",
        "outputId": "556579ae-5d1a-4992-b967-75a1572ae0b8"
      },
      "source": [
        "print(\"패키지 안의 함수 실행하기\")\n",
        "#######################################\n",
        "# package를 import하여 내부 함수 실행\n",
        "#######################################\n",
        "#\n",
        "# 1. echo 모듈을 import하여 실행\n",
        "import game.sound.echo\n",
        "\n",
        "game.sound.echo.echo_test()"
      ],
      "execution_count": 113,
      "outputs": [
        {
          "output_type": "stream",
          "text": [
            "패키지 안의 함수 실행하기\n",
            "echo\n"
          ],
          "name": "stdout"
        }
      ]
    },
    {
      "cell_type": "code",
      "metadata": {
        "colab": {
          "base_uri": "https://localhost:8080/"
        },
        "id": "y3gk5AltnBT4",
        "outputId": "1369d4c4-37e6-450e-f709-2867b8c54ca7"
      },
      "source": [
        "# 2. echo 모듈이 있는 디렉터리까지를 from ... import하여 실행\n",
        "from game.sound import echo\n",
        "\n",
        "echo.echo_test()\n"
      ],
      "execution_count": 115,
      "outputs": [
        {
          "output_type": "stream",
          "text": [
            "echo\n"
          ],
          "name": "stdout"
        }
      ]
    },
    {
      "cell_type": "code",
      "metadata": {
        "colab": {
          "base_uri": "https://localhost:8080/"
        },
        "id": "4yAubLr_purq",
        "outputId": "06d81db7-2080-4809-ec31-08737fb4f9a3"
      },
      "source": [
        "# 3. echo 모듈의 echo_test 함수를 직접 import하여 실행\n",
        "from game.sound.echo import echo_test\n",
        "\n",
        "echo_test()"
      ],
      "execution_count": 116,
      "outputs": [
        {
          "output_type": "stream",
          "text": [
            "echo\n"
          ],
          "name": "stdout"
        }
      ]
    },
    {
      "cell_type": "code",
      "metadata": {
        "colab": {
          "base_uri": "https://localhost:8080/",
          "height": 361
        },
        "id": "u7aEoCtuqSX0",
        "outputId": "06003de7-4814-4e28-c7ad-d8211662af6a"
      },
      "source": [
        "#\n",
        "# 다음과 같이 echo_test 함수를 사용하는 것은 불가능\n",
        "import game\n",
        "\n",
        "game.sound.echo.echo_test()\n",
        "\n",
        "import game.sound.echo.echo_test  # ModuleNotFoundError:"
      ],
      "execution_count": 118,
      "outputs": [
        {
          "output_type": "stream",
          "text": [
            "echo\n"
          ],
          "name": "stdout"
        },
        {
          "output_type": "error",
          "ename": "ModuleNotFoundError",
          "evalue": "ignored",
          "traceback": [
            "\u001b[0;31m---------------------------------------------------------------------------\u001b[0m",
            "\u001b[0;31mModuleNotFoundError\u001b[0m                       Traceback (most recent call last)",
            "\u001b[0;32m<ipython-input-118-31931c23c6c3>\u001b[0m in \u001b[0;36m<module>\u001b[0;34m()\u001b[0m\n\u001b[1;32m      5\u001b[0m \u001b[0mgame\u001b[0m\u001b[0;34m.\u001b[0m\u001b[0msound\u001b[0m\u001b[0;34m.\u001b[0m\u001b[0mecho\u001b[0m\u001b[0;34m.\u001b[0m\u001b[0mecho_test\u001b[0m\u001b[0;34m(\u001b[0m\u001b[0;34m)\u001b[0m\u001b[0;34m\u001b[0m\u001b[0;34m\u001b[0m\u001b[0m\n\u001b[1;32m      6\u001b[0m \u001b[0;34m\u001b[0m\u001b[0m\n\u001b[0;32m----> 7\u001b[0;31m \u001b[0;32mimport\u001b[0m \u001b[0mgame\u001b[0m\u001b[0;34m.\u001b[0m\u001b[0msound\u001b[0m\u001b[0;34m.\u001b[0m\u001b[0mecho\u001b[0m\u001b[0;34m.\u001b[0m\u001b[0mecho_test\u001b[0m  \u001b[0;31m# ModuleNotFoundError:\u001b[0m\u001b[0;34m\u001b[0m\u001b[0;34m\u001b[0m\u001b[0m\n\u001b[0m",
            "\u001b[0;31mModuleNotFoundError\u001b[0m: No module named 'game.sound.echo.echo_test'; 'game.sound.echo' is not a package",
            "",
            "\u001b[0;31m---------------------------------------------------------------------------\u001b[0;32m\nNOTE: If your import is failing due to a missing package, you can\nmanually install dependencies using either !pip or !apt.\n\nTo view examples of installing some common dependencies, click the\n\"Open Examples\" button below.\n\u001b[0;31m---------------------------------------------------------------------------\u001b[0m\n"
          ]
        }
      ]
    },
    {
      "cell_type": "markdown",
      "metadata": {
        "id": "BfJPjZ2ZrPpx"
      },
      "source": [
        "### \\_\\_init\\_\\_.py 의 용도"
      ]
    },
    {
      "cell_type": "code",
      "metadata": {
        "colab": {
          "base_uri": "https://localhost:8080/"
        },
        "id": "yvu7pIfMqUu7",
        "outputId": "e9854e87-d5d3-40ad-bff7-e667695d92ee"
      },
      "source": [
        "print(\"__init__.py 의 용도\")\n",
        "#######################################\n",
        "# __init__.py 파일은 해당 디렉터리가 패키지의 일부임을 알려주는 역할\n",
        "# 만약 game, sound, graphic 등 패키지에 포함된 디렉터리에\n",
        "# __init__.py 파일이 없다면 패키지로 인식되지 않는다.\n",
        "#######################################\n",
        "#\n",
        "from game.sound import *\n",
        "\n",
        "echo.echo_test()"
      ],
      "execution_count": 119,
      "outputs": [
        {
          "output_type": "stream",
          "text": [
            "__init__.py 의 용도\n",
            "echo\n"
          ],
          "name": "stdout"
        }
      ]
    },
    {
      "cell_type": "code",
      "metadata": {
        "colab": {
          "base_uri": "https://localhost:8080/"
        },
        "id": "KBPZZXD6ssae",
        "outputId": "75920988-0dd9-4690-8746-301e22d48911"
      },
      "source": [
        "print(\"relative 패키지\")\n",
        "#######################################\n",
        "# 만약 graphic 디렉터리의 render.py 모듈이\n",
        "# sound 디렉터리의 echo.py 모듈을 사용\n",
        "#\n",
        "# render.py를 수정\n",
        "#######################################\n",
        "#\n",
        "from game.graphic.render import render_test\n",
        "\n",
        "render_test()"
      ],
      "execution_count": 120,
      "outputs": [
        {
          "output_type": "stream",
          "text": [
            "relative 패키지\n",
            "render\n"
          ],
          "name": "stdout"
        }
      ]
    },
    {
      "cell_type": "code",
      "metadata": {
        "colab": {
          "base_uri": "https://localhost:8080/",
          "height": 35
        },
        "id": "copUSRabtwsR",
        "outputId": "38b064a1-a898-4c29-bb85-539216d42911"
      },
      "source": [
        "# .. : parent folder\n",
        "#  . : current folder\n",
        "\"\"\"\n",
        "# render.py\n",
        "from ..sound.echo import echo_test\n",
        "def render_test():\n",
        "    print (\"render\")\n",
        "    echo_test()\n",
        "\"\"\"\n",
        "\n",
        "\n",
        "\"\"\"\n",
        "# render.py\n",
        "from game.sound.echo import echo_test\n",
        "def render_test():\n",
        "    print (\"render\")\n",
        "    echo_test()\n",
        "\"\"\"\n"
      ],
      "execution_count": 121,
      "outputs": [
        {
          "output_type": "execute_result",
          "data": {
            "application/vnd.google.colaboratory.intrinsic+json": {
              "type": "string"
            },
            "text/plain": [
              "'\\n# render.py\\nfrom game.sound.echo import echo_test\\ndef render_test():\\n    print (\"render\")\\n    echo_test()\\n'"
            ]
          },
          "metadata": {
            "tags": []
          },
          "execution_count": 121
        }
      ]
    }
  ]
}