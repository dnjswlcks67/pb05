{
  "nbformat": 4,
  "nbformat_minor": 0,
  "metadata": {
    "colab": {
      "name": "ch8_exercises_pb05.ipynb",
      "provenance": [],
      "collapsed_sections": []
    },
    "kernelspec": {
      "name": "python3",
      "display_name": "Python 3"
    }
  },
  "cells": [
    {
      "cell_type": "markdown",
      "metadata": {
        "id": "ovY5jkD5dpxE"
      },
      "source": [
        "# ch8_exercises.ipynb"
      ]
    },
    {
      "cell_type": "markdown",
      "metadata": {
        "id": "SZw6UnxQWYBe"
      },
      "source": [
        "Q1. 문자열 바꾸기\n",
        "> 다음과 같은 문자열이 있다.\n",
        "\n",
        "```\n",
        "a:b:c:d\n",
        "```\n",
        "\n",
        "> 문자열의 split와 join 함수를 사용하여 위 문자열을 다음과 같이 고치시오.\n",
        "\n",
        "```\n",
        "a#b#c#d\n",
        "```\n"
      ]
    },
    {
      "cell_type": "code",
      "metadata": {
        "id": "rUNNaqJPdg7B",
        "colab": {
          "base_uri": "https://localhost:8080/"
        },
        "outputId": "51ca648b-2168-4831-e95a-04118f88a1a2"
      },
      "source": [
        "# [Q1] Code-1 \n",
        "a = \"a:b:c:d\"\n",
        "b = a.split(\":\")\n",
        "c =\"#\".join(b)\n",
        "print(c)"
      ],
      "execution_count": null,
      "outputs": [
        {
          "output_type": "stream",
          "text": [
            "a#b#c#d\n"
          ],
          "name": "stdout"
        }
      ]
    },
    {
      "cell_type": "code",
      "metadata": {
        "id": "x0OIIHRmDwtd",
        "colab": {
          "base_uri": "https://localhost:8080/",
          "height": 35
        },
        "outputId": "ad18db4b-66a8-4dcb-e044-29001753ef0a"
      },
      "source": [
        "# [Q1] Code-2 replace 함수 사용\n",
        "a = \"a:b:c:d\"\n",
        "a.replace(\":\",\"#\")"
      ],
      "execution_count": null,
      "outputs": [
        {
          "output_type": "execute_result",
          "data": {
            "text/plain": [
              "'a#b#c#d'"
            ]
          },
          "metadata": {
            "tags": []
          },
          "execution_count": 7
        }
      ]
    },
    {
      "cell_type": "markdown",
      "metadata": {
        "id": "re2-XrUYXF1m"
      },
      "source": [
        "## Q2. 딕셔너리 값 추출하기\n",
        "> 다음은 딕셔너리의 a에서 'C'라는 key에 해당하는 value를 출력하는 프로그램이다.\n",
        "```\n",
        ">>> a = {'A':90, 'B':80}\n",
        ">>> a['C']\n",
        "Traceback (most recent call last):\n",
        "  File \"<stdin>\", line 1, in <module>\n",
        "KeyError: 'C'\n",
        "```\n",
        ">> a 딕셔너리에는 'C'라는 key가 없으므로 위와 같은 오류가 발생한다.  \n",
        ">>'C'에 해당하는 key 값이 없을 경우 오류 대신 70을 얻을 수 있도록 수정하시오."
      ]
    },
    {
      "cell_type": "code",
      "metadata": {
        "id": "5MBLUZ5WXF1q",
        "colab": {
          "base_uri": "https://localhost:8080/",
          "height": 35
        },
        "outputId": "4f7d9797-81ab-4e74-8095-c2535a56df8f"
      },
      "source": [
        "# [Q2] Code-1\n",
        "a = {'A':90, 'B':80}\n",
        "a.get(\"C\",70)        # C 값이 없기 때문에 지정한 디폴트 값인 70을 출력"
      ],
      "execution_count": null,
      "outputs": [
        {
          "output_type": "execute_result",
          "data": {
            "text/plain": [
              "70"
            ]
          },
          "metadata": {
            "tags": []
          },
          "execution_count": 21
        }
      ]
    },
    {
      "cell_type": "markdown",
      "metadata": {
        "id": "ccsoRgrfu6Xe"
      },
      "source": [
        ""
      ]
    },
    {
      "cell_type": "code",
      "metadata": {
        "id": "viVk7IDSEQZX",
        "colab": {
          "base_uri": "https://localhost:8080/",
          "height": 35
        },
        "outputId": "dac5ca5e-9d1e-4968-ef1f-453537ed3ed8"
      },
      "source": [
        "# [Q2] Code-2\n",
        "a = {'A':90, 'B':80}\n",
        "a['C'] = 70          # 딕셔너리 a에 'C':70 추가\n",
        "a['C']"
      ],
      "execution_count": null,
      "outputs": [
        {
          "output_type": "execute_result",
          "data": {
            "text/plain": [
              "70"
            ]
          },
          "metadata": {
            "tags": []
          },
          "execution_count": 22
        }
      ]
    },
    {
      "cell_type": "markdown",
      "metadata": {
        "id": "UZy8lu_BXGnT"
      },
      "source": [
        "## Q3. 리스트의 더하기와 extend 함수\n",
        "> 다음과 같은 리스트 a가 있다.\n",
        "```\n",
        "a = [1, 2, 3]\n",
        "```\n",
        "> 리스트 a에 [4, 5]를 + 기호를 사용하여 더한 결과는 다음과 같다.\n",
        "```\n",
        ">>> a = [1, 2, 3]\n",
        ">>> a = a + [4,5]\n",
        ">>> a\n",
        "[1, 2, 3, 4, 5]\n",
        "```\n",
        "> 리스트 a에 [4,5]를 extend를 사용하여 더한 결과는 다음과 같다.\n",
        "```\n",
        ">>> a = [1, 2, 3]\n",
        ">>> a.extend([4, 5])\n",
        ">>> a\n",
        "[1, 2, 3, 4, 5]\n",
        "```\n",
        "\n",
        "> ### + 기호를 사용하여 더한 것과 extend한 것의 차이점이 있을까? 있다면 그 차이점을 설명하시오."
      ]
    },
    {
      "cell_type": "code",
      "metadata": {
        "id": "H9T_sXHzXGnW",
        "colab": {
          "base_uri": "https://localhost:8080/",
          "height": 89
        },
        "outputId": "6e8ff543-998e-4a8d-a1fa-62322f5aff0d"
      },
      "source": [
        "# [Q3] Explain (코드와 주석으로 설명하시오)\n",
        "a = [1, 2, 3]\n",
        "print(id(a))\n",
        "a = a + [4,5]\n",
        "print(id(a))\n",
        "# 리스트 a에 + 기호를 사용하여 더했을 경우 \n",
        "# 이전의 리스트 a가 저장되어 있던 주소와 다른 값을 돌려준다.\n",
        "\n",
        "b = [1, 2, 3]\n",
        "print(id(b))\n",
        "b.extend([4,5])\n",
        "print(id(b))\n",
        "# 그에 비해 리스트 a에 extend 함수를 이용하였을 경우 +기호를 이용\n",
        "# 하였을 때와 달리 주소값이 같은 것을 알수있다."
      ],
      "execution_count": null,
      "outputs": [
        {
          "output_type": "stream",
          "text": [
            "140373778352904\n",
            "140373776846728\n",
            "140373778352904\n",
            "140373778352904\n"
          ],
          "name": "stdout"
        }
      ]
    },
    {
      "cell_type": "markdown",
      "metadata": {
        "id": "fqypxxqTXHY7"
      },
      "source": [
        "## Q4. 리스트 총합 구하기\n",
        "> 다음은 A학급 학생의 점수를 나타내는 리스트이다. 다음 리스트에서 50점 이상 점수의 총합을 구하시오.\n",
        "```\n",
        "A = [20, 55, 67, 82, 45, 33, 90, 87, 100, 25]\n",
        "```"
      ]
    },
    {
      "cell_type": "code",
      "metadata": {
        "id": "oQ5UnmayXHY-",
        "colab": {
          "base_uri": "https://localhost:8080/",
          "height": 53
        },
        "outputId": "a2e7c4dd-e0b3-4e44-b6c8-521b815619ff"
      },
      "source": [
        "# [Q4] Code-1\n",
        "A = [20, 55, 67, 82, 45, 33, 90, 87, 100, 25]\n",
        "result = 0\n",
        "for i in A:\n",
        "  if i >50:\n",
        "    result += i\n",
        "\n",
        "print(result)"
      ],
      "execution_count": null,
      "outputs": [
        {
          "output_type": "stream",
          "text": [
            "[]\n",
            "481\n"
          ],
          "name": "stdout"
        }
      ]
    },
    {
      "cell_type": "code",
      "metadata": {
        "id": "pMQ1e6jpFomt",
        "colab": {
          "base_uri": "https://localhost:8080/",
          "height": 35
        },
        "outputId": "5f0b93dc-3144-48cd-98da-34aea6fc8235"
      },
      "source": [
        "# [Q4] Code-2\n",
        "A = [20, 55, 67, 82, 45, 33, 90, 87, 100, 25]\n",
        "result = 0\n",
        "\n",
        "while A:              # A 리스트 안에 값이 있으면\n",
        "    number = A.pop()   # 마지막 항목을 출력 하고 사라지게 한다\n",
        "    if number >= 50:   # 숫자가 50 이상 일 때 값들을 다 더해줌\n",
        "        result += number\n",
        "print(result)"
      ],
      "execution_count": null,
      "outputs": [
        {
          "output_type": "stream",
          "text": [
            "481\n"
          ],
          "name": "stdout"
        }
      ]
    },
    {
      "cell_type": "markdown",
      "metadata": {
        "id": "NKsvciXZXIL-"
      },
      "source": [
        "## Q5. 피보나치 함수\n",
        "> 첫 번째 항의 값이 0이고 두 번째 항의 값이 1일 때, 이후에 이어지는 항은 이전의 두 항을 더한 값으로 이루어지는 수열을 피보나치 수열이라고 한다.\n",
        "```\n",
        "0, 1, 1, 2, 3, 5, 8, 13, 21, ...\n",
        "```\n",
        "> 입력을 정수 n으로 받았을 때, n 이하까지의 피보나치 수열을 출력하는 함수를 작성해 보자.\n"
      ]
    },
    {
      "cell_type": "code",
      "metadata": {
        "id": "UKJViOb6xvRq",
        "colab": {
          "base_uri": "https://localhost:8080/",
          "height": 53
        },
        "outputId": "7fd77994-7196-40fe-b492-187beb5822bf"
      },
      "source": [
        "# [Q5] Code-1\n",
        "num = int(input(\"피보나치 수열의 최댓값을 입력하세요.:\"))\n",
        "result = 0   # 출력되는 결과\n",
        "two = 1      # 두번째 숫자\n",
        "\n",
        "if num > 0:  # 입력받은 값이 0보면 클 경우\n",
        " while result <= num:                   # result의 값이 num과 같아 질때 까지 반복\n",
        "    print(result ,end = \" \")            # 현재 result의 값 출력(첫번째일때는 0)\n",
        "    one = result                        # 가장최근에 출력된 첫번째 result를 one에 대입\n",
        "    result = two                        # result의 값을 while문이 돌기전 two의 값으로 교체(첫번째일떄는 1)\n",
        "    two = one + two                     # two에 첫번째 숫자와 두번째 숫자를 더한 값을 대입\n",
        "else:\n",
        "    print(\"호완되는 숫자가 아닙니다.\")"
      ],
      "execution_count": null,
      "outputs": [
        {
          "output_type": "stream",
          "text": [
            "피보나치 수열의 최댓값을 입력하세요.:12\n",
            "0 1 1 2 3 5 8 "
          ],
          "name": "stdout"
        }
      ]
    },
    {
      "cell_type": "code",
      "metadata": {
        "id": "JH2Rm_TkF_eu",
        "colab": {
          "base_uri": "https://localhost:8080/",
          "height": 53
        },
        "outputId": "b653cb8b-c9b2-46e1-9ee3-49cf7bbda255"
      },
      "source": [
        "# [Q5] Code-2\n",
        "b=0\n",
        "a = int(input(\"n번째 숫자만큼의 입력하세요.:\"))\n",
        "def fibo(num):\n",
        "    if num == 0: return 0             # num이 0일때 0 리턴\n",
        "    if num == 1: return 1             # num이 1일때 1리턴\n",
        "    return fibo(num-2) + fibo(num-1)  # num이 2이상일 경우 fibo(num-2)과 fibo(num-1)을 반환하여 더함\n",
        "\n",
        "for i in range(a):\n",
        "    print(fibo(i), end = \" \")"
      ],
      "execution_count": null,
      "outputs": [
        {
          "output_type": "stream",
          "text": [
            "n번째 숫자만큼의 입력하세요.:12\n",
            "0 1 1 2 3 5 8 13 21 34 55 89 "
          ],
          "name": "stdout"
        }
      ]
    },
    {
      "cell_type": "markdown",
      "metadata": {
        "id": "-3KHtOOoXJBV"
      },
      "source": [
        "## Q6. 숫자의 총합 구하기\n",
        "> 사용자로부터 다음과 같은 숫자를 입력받아 입력받은 숫자의 총합을 구하는 프로그램을 작성하시오. (단 숫자는 콤마로 구분하여 입력한다.)\n",
        "\n",
        "```\n",
        "65,45,2,3,45,8\n",
        "```\n"
      ]
    },
    {
      "cell_type": "code",
      "metadata": {
        "id": "AjYR0lUaXJBa",
        "colab": {
          "base_uri": "https://localhost:8080/",
          "height": 53
        },
        "outputId": "6b63e11f-3547-49e0-d4d8-33c4df25200a"
      },
      "source": [
        "# [Q6] Code-1\n",
        "user_input = input(\"숫자를 입력하시오\")\n",
        "num = user_input.split(\",\")\n",
        "total = 0\n",
        "for number in num:\n",
        "  total += int(number)\n",
        "\n",
        "print(total)\n"
      ],
      "execution_count": null,
      "outputs": [
        {
          "output_type": "stream",
          "text": [
            "계산할 숫자들을 입력하세요.:65,45,2,3,45,8\n",
            "168\n"
          ],
          "name": "stdout"
        }
      ]
    },
    {
      "cell_type": "code",
      "metadata": {
        "id": "1m0l79mURV-K",
        "colab": {
          "base_uri": "https://localhost:8080/",
          "height": 53
        },
        "outputId": "8e1e9ab9-b8c8-4b91-d23f-e9ad529c00ae"
      },
      "source": [
        "# [Q6] Code-2\n",
        "comma_numbers = (input(\"계산할 숫자들을 입력하세요.:\"))\n",
        "numbers = map(int, comma_numbers.split(\",\"))\n",
        "def Sum(numbers,result=0):\n",
        "  for num in numbers:\n",
        "    result += int(num)\n",
        "  return result\n",
        "  \n",
        "print(Sum(numbers))"
      ],
      "execution_count": null,
      "outputs": [
        {
          "output_type": "stream",
          "text": [
            "계산할 숫자들을 입력하세요.:65,45,2,3,45,8\n",
            "168\n"
          ],
          "name": "stdout"
        }
      ]
    },
    {
      "cell_type": "markdown",
      "metadata": {
        "id": "CiMJjZQ_GdyV"
      },
      "source": [
        "## Q7. 한 줄 구구단\n",
        "> 사용자로부터 2~9의 숫자 중 하나를 입력받아 해당 숫자의 구구단을 한 줄로 출력하는 프로그램을 작성하시오.\n",
        "\n",
        "> 실행 예)\n",
        "```\n",
        "구구단을 출력할 숫자를 입력하세요(2~9): 2\n",
        "2 4 6 8 10 12 14 16 18\n",
        "```\n"
      ]
    },
    {
      "cell_type": "code",
      "metadata": {
        "id": "_8TQZNIwGdyo",
        "colab": {
          "base_uri": "https://localhost:8080/",
          "height": 53
        },
        "outputId": "29d4fa69-5696-481d-8563-ae74033822fb"
      },
      "source": [
        "# [Q7] Code-1\n",
        "user_input = input(\"2~9 숫자중 하나를 입력하시오\")\n",
        "GuGu0 = int(user_input)\n",
        "for i in range(1,10):\n",
        "  print(GuGu0*i, end=\" \")"
      ],
      "execution_count": null,
      "outputs": [
        {
          "output_type": "stream",
          "text": [
            "2단에서 9단까지의 구구단중 하나를 입력해주세요.:9\n",
            "9 18 27 36 45 54 63 72 81 "
          ],
          "name": "stdout"
        }
      ]
    },
    {
      "cell_type": "code",
      "metadata": {
        "id": "HRX-wvenGdyx",
        "colab": {
          "base_uri": "https://localhost:8080/",
          "height": 53
        },
        "outputId": "e17cd7ff-34da-49a9-ed7e-9f2b9ea78bdc"
      },
      "source": [
        "# [Q7] Code-2\n",
        "user_input = input(\"2~9 숫자중 하나를 입력하시오\")\n",
        "GuGu0 = int(user_input)\n",
        "a = 1\n",
        "while (a<10):\n",
        "  print(GuGu0*a, end=\" \")\n",
        "  a += 1"
      ],
      "execution_count": null,
      "outputs": [
        {
          "output_type": "stream",
          "text": [
            "2단에서 9단까지의 구구단중 하나를 입력해주세요.:9\n",
            "[9, 18, 27, 36, 45, 54, 63, 72, 81]\n"
          ],
          "name": "stdout"
        }
      ]
    },
    {
      "cell_type": "markdown",
      "metadata": {
        "id": "YrS3b88QbmKo"
      },
      "source": [
        "## Q8. 역순 저장\n",
        "> 다음과 같은 내용의 파일 abc.txt가 있다.\n",
        "```\n",
        "AAA\n",
        "BBB\n",
        "CCC\n",
        "DDD\n",
        "EEE\n",
        "```\n",
        "> 이 파일의 내용을 다음과 같이 역순으로 바꾸어 저장하시오.\n",
        "```\n",
        "EEE\n",
        "DDD\n",
        "CCC\n",
        "BBB\n",
        "AAA\n",
        "```"
      ]
    },
    {
      "cell_type": "code",
      "metadata": {
        "id": "Ll_2InMWbmKq",
        "colab": {
          "base_uri": "https://localhost:8080/",
          "height": 107
        },
        "outputId": "22e8a5f8-c2ed-4e37-a8a5-6039a139d6d0"
      },
      "source": [
        "# [Q8] Code-1\n",
        "f = open('abc.txt','r')    # 읽기 모드\n",
        "eng = f.readlines()        # txt내의 모든 줄을 읽음\n",
        "f.close()\n",
        "\n",
        "for eng in reversed(open(\"abc.txt\").readlines()):   # txt내의 모든 줄을 읽은 뒤 순서를 반대로 돌림\n",
        "    print(eng.strip())"
      ],
      "execution_count": null,
      "outputs": [
        {
          "output_type": "stream",
          "text": [
            "EEE\n",
            "DDD\n",
            "CCC\n",
            "BBB\n",
            "AAA\n"
          ],
          "name": "stdout"
        }
      ]
    },
    {
      "cell_type": "code",
      "metadata": {
        "id": "N3uG53JsHIYX"
      },
      "source": [
        "# [Q8] Code-2\n",
        "f = open('abc.txt', 'r')\n",
        "lines = f.readlines()    # 모든 라인을 읽음\n",
        "f.close()\n",
        "\n",
        "lines.reverse()          # 읽은 라인을 역순으로 정렬\n",
        "\n",
        "f = open('abc.txt', 'w')\n",
        "for line in lines:\n",
        "    line = line.strip()  # 포함되어 있는 줄 바꿈 문자 제거\n",
        "    f.write(line)\n",
        "    f.write('\\n')        # 줄 바꿈 문자 삽입\n",
        "f.close()"
      ],
      "execution_count": null,
      "outputs": []
    },
    {
      "cell_type": "code",
      "metadata": {
        "id": "nFeXogy0lgB7",
        "colab": {
          "base_uri": "https://localhost:8080/",
          "height": 125
        },
        "outputId": "bf8dafd0-c12d-47e6-c043-58cabf5f515f"
      },
      "source": [
        "f = open(\"abc.txt\",'r')\n",
        "alleng = f.read()\n",
        "print(alleng)\n",
        "f.close()"
      ],
      "execution_count": null,
      "outputs": [
        {
          "output_type": "stream",
          "text": [
            "EEE\n",
            "DDD\n",
            "CCC\n",
            "BBB\n",
            "AAA\n",
            "\n"
          ],
          "name": "stdout"
        }
      ]
    },
    {
      "cell_type": "markdown",
      "metadata": {
        "id": "OcSDHHYkK6lZ"
      },
      "source": [
        "## Q9. 평균값 구하기\n",
        "> 다음과 같이 총 10줄로 이루어진 sample.txt 파일이 있다. sample.txt 파일의 숫자 값을 모두 읽어 총합과 평균 값을 구한 후 평균 값을 result.txt 파일에 쓰는 프로그램을 작성하시오.\n",
        "```\n",
        "70\n",
        "60\n",
        "55\n",
        "75\n",
        "95\n",
        "90\n",
        "80\n",
        "80\n",
        "85\n",
        "100\n",
        "```\n"
      ]
    },
    {
      "cell_type": "code",
      "metadata": {
        "id": "GmaaVGqrK6le",
        "colab": {
          "base_uri": "https://localhost:8080/",
          "height": 53
        },
        "outputId": "a5295ae1-18a8-44fa-9a0f-f3408437f979"
      },
      "source": [
        "# [Q9] Code-1\n",
        "f = open(\"sample.txt\")\n",
        "grade = f.readlines( )         # sample.txt를 줄 단위로 lines에 저장\n",
        "f.close( )\n",
        "Sum = 0\n",
        "\n",
        "for num in grade:\n",
        "    score = int(num)          # 줄에 적힌 숫자를 정수단위로 변환\n",
        "    Sum += score\n",
        "average = Sum / len(grade)\n",
        "print(Sum)\n",
        "\n",
        "f = open(\"result.txt\", \"w\")\n",
        "f.write(str(average))          # 숫자는 txt에 바로 쓸 수 없기 때문에 문자형으로 변환\n",
        "f.close()\n",
        "\n",
        "f = open(\"result.txt\",\"r\")\n",
        "grade_average = f.read()\n",
        "print(grade_average)\n",
        "f.close()"
      ],
      "execution_count": null,
      "outputs": [
        {
          "output_type": "stream",
          "text": [
            "790\n",
            "79.0\n"
          ],
          "name": "stdout"
        }
      ]
    },
    {
      "cell_type": "code",
      "metadata": {
        "id": "kgMy9LVYHfRF",
        "colab": {
          "base_uri": "https://localhost:8080/",
          "height": 35
        },
        "outputId": "fde1273e-9ba8-422b-ddbe-08ae5f390082"
      },
      "source": [
        "# [Q9] Code-2\n",
        "f = open(\"sample.txt\",'r')\n",
        "grade = f.readlines()\n",
        "grade = list(map(int, grade))\n",
        "\n",
        "Sum = sum(grade)\n",
        "average = Sum/len(grade)\n",
        "print(\"총합: %d\"%Sum)\n",
        "\n",
        "f = open(\"result.txt\", \"w\")\n",
        "f.write(str(average))          # 숫자는 txt에 바로 쓸 수 없기 때문에 문자형으로 변환\n",
        "f.close()\n",
        "\n",
        "f = open(\"result.txt\",\"r\")\n",
        "average = f.read()\n",
        "print(\"평균:\",average)\n",
        "f.close()"
      ],
      "execution_count": null,
      "outputs": [
        {
          "output_type": "stream",
          "text": [
            "79.0\n"
          ],
          "name": "stdout"
        }
      ]
    },
    {
      "cell_type": "code",
      "metadata": {
        "id": "waxcdhgP2Gil",
        "colab": {
          "base_uri": "https://localhost:8080/",
          "height": 53
        },
        "outputId": "2a007c5d-c3b9-46b9-9ffb-ad43d8c683b9"
      },
      "source": [
        "# [Q9] Code-3\n",
        "f = open(\"sample.txt\",'r')\n",
        "grade = f.readlines()\n",
        "grade = list(map(int, grade))\n",
        "\n",
        "Sum = sum(grade)\n",
        "average = Sum/len(grade)\n",
        "print(\"총합: %d\"%Sum)\n",
        "\n",
        "f = open(\"result.txt\", \"w\")\n",
        "f.write(str(average))          # 숫자는 txt에 바로 쓸 수 없기 때문에 문자형으로 변환\n",
        "f.close()\n",
        "\n",
        "f = open(\"result.txt\",\"r\")\n",
        "average = f.read()\n",
        "print(\"평균:\",average)\n",
        "f.close()"
      ],
      "execution_count": null,
      "outputs": [
        {
          "output_type": "stream",
          "text": [
            "총합: 790\n",
            "평균: 79.0\n"
          ],
          "name": "stdout"
        }
      ]
    },
    {
      "cell_type": "markdown",
      "metadata": {
        "id": "anwB_DjuK60j"
      },
      "source": [
        "## Q10. 사칙연산 계산기\n",
        "> 다음과 같이 동작하는 클래스 Calculator를 작성하시오.\n",
        "```\n",
        ">>> cal1 = Calculator([1,2,3,4,5])\n",
        ">>> cal1.sum() # 합계\n",
        "15\n",
        ">>> cal1.avg() # 평균\n",
        "3.0\n",
        ">>> cal2 = Calculator([6,7,8,9,10])\n",
        ">>> cal2.sum() # 합계\n",
        "40\n",
        ">>> cal2.avg() # 평균\n",
        "8.0\n",
        "```\n"
      ]
    },
    {
      "cell_type": "code",
      "metadata": {
        "id": "QJTNoSqtMrIM",
        "colab": {
          "base_uri": "https://localhost:8080/",
          "height": 89
        },
        "outputId": "bf61a725-365e-49e2-ab2a-e4fa76b71648"
      },
      "source": [
        "# [Q10] Code-1\n",
        "class Calculator:\n",
        "    def __init__ (self, number): \n",
        "        self.number = number\n",
        "        \n",
        "    def add(self):  # 합계\n",
        "        result = 0\n",
        "        for num in self.number: \n",
        "            result += num\n",
        "        return result\n",
        "\n",
        "    def avg(self):   # 평균\n",
        "        total = self.add()\n",
        "        return total / len(self.number)\n",
        "\n",
        "\n",
        "\n",
        "cal1 = Average_Calculator([1,2,3,4,5]) \n",
        "print (cal1.add())\n",
        "print (cal1.avg())\n",
        "\n",
        "cal2 = Average_Calculator([6,7,8,9,10]) \n",
        "print (cal2.add())\n",
        "print (cal2.avg())"
      ],
      "execution_count": null,
      "outputs": [
        {
          "output_type": "stream",
          "text": [
            "15\n",
            "3.0\n",
            "40\n",
            "8.0\n"
          ],
          "name": "stdout"
        }
      ]
    },
    {
      "cell_type": "code",
      "metadata": {
        "id": "91hia3WgH2gW",
        "colab": {
          "base_uri": "https://localhost:8080/",
          "height": 89
        },
        "outputId": "c8c39570-2523-4994-f340-ef25d3673460"
      },
      "source": [
        "# [Q10] Code-2\n",
        "class Calculator:\n",
        "    def __init__ (self, number): \n",
        "        self.number = number\n",
        "        \n",
        "    def add(self):  # 합계\n",
        "        result = 0\n",
        "        for num in self.number: \n",
        "            result += num\n",
        "        return result\n",
        "\n",
        "class Average_Calculator(Calculator):\n",
        "    def avg(self):   # 평균\n",
        "        total = self.add()\n",
        "        return total / len(self.number)\n",
        "\n",
        "\n",
        "\n",
        "cal1 = Average_Calculator([1,2,3,4,5]) \n",
        "print (cal1.add())\n",
        "print (cal1.avg())\n",
        "\n",
        "cal2 = Average_Calculator([6,7,8,9,10]) \n",
        "print (cal2.add())\n",
        "print (cal2.avg())\n"
      ],
      "execution_count": null,
      "outputs": [
        {
          "output_type": "stream",
          "text": [
            "15\n",
            "3.0\n",
            "40\n",
            "8.0\n"
          ],
          "name": "stdout"
        }
      ]
    },
    {
      "cell_type": "markdown",
      "metadata": {
        "id": "gNnjBaJvH_51"
      },
      "source": [
        "\n",
        "\n",
        "---\n",
        "\n",
        "\n"
      ]
    },
    {
      "cell_type": "markdown",
      "metadata": {
        "id": "8xQf6xJ4K7M_"
      },
      "source": [
        "## Q11. 모듈 사용 방법\n",
        "> ./doit 디렉터리에 mymod.py 파이썬 모듈이 있다고 가정해 보자. 명령 프롬프트 창에서 파이썬 셸을 열어 이 모듈을 import해서 사용할 수 있는 방법을 모두 기술하시오. (즉 다음과 같이 import mymod를 수행할 때 오류가 없어야 한다.)\n",
        "```\n",
        ">>> import mymod\n",
        ">>>\n",
        "```"
      ]
    },
    {
      "cell_type": "code",
      "metadata": {
        "id": "4zv7LXPjJiCH",
        "colab": {
          "base_uri": "https://localhost:8080/",
          "height": 35
        },
        "outputId": "3608ff7b-6b34-4c73-939e-a1d08e05af45"
      },
      "source": [
        "!mkdir doit\n",
        "# 실행 후 새로 고침!\n",
        "# mymod.py 를 업로드한다."
      ],
      "execution_count": null,
      "outputs": [
        {
          "output_type": "stream",
          "text": [
            "mkdir: cannot create directory ‘doit’: File exists\n"
          ],
          "name": "stdout"
        }
      ]
    },
    {
      "cell_type": "code",
      "metadata": {
        "id": "JA_3n4g8JiB7",
        "colab": {
          "base_uri": "https://localhost:8080/",
          "height": 35
        },
        "outputId": "f7431674-57bf-4536-b70b-6398e8c54403"
      },
      "source": [
        "!mv mymod.py ./doit\n",
        "# 실행 후 새로 고침!"
      ],
      "execution_count": null,
      "outputs": [
        {
          "output_type": "stream",
          "text": [
            "mv: cannot stat 'mymod.py': No such file or directory\n"
          ],
          "name": "stdout"
        }
      ]
    },
    {
      "cell_type": "code",
      "metadata": {
        "id": "UCO7aRh5Msx6"
      },
      "source": [
        "# [Q11] Code-1\n",
        "from doit import mymod"
      ],
      "execution_count": null,
      "outputs": []
    },
    {
      "cell_type": "code",
      "metadata": {
        "id": "aX_wLb53IgUl"
      },
      "source": [
        "# [Q11] Code-2\n",
        "import sys\n",
        "sys.path.append(\"C:/doit\")\n",
        "import mymod"
      ],
      "execution_count": null,
      "outputs": []
    },
    {
      "cell_type": "code",
      "metadata": {
        "id": "1S4IKnPqPmiT"
      },
      "source": [
        "# [Q11] Code-3\n",
        "import os\n",
        "os.chdir(\"doit\") # 디렉터리 이동"
      ],
      "execution_count": null,
      "outputs": []
    },
    {
      "cell_type": "code",
      "metadata": {
        "id": "Zg4yuVyMP3Po"
      },
      "source": [
        "os.getcwd()\n",
        "import mymod"
      ],
      "execution_count": null,
      "outputs": []
    },
    {
      "cell_type": "markdown",
      "metadata": {
        "id": "Q6QYCZ9HM3DW"
      },
      "source": [
        "## Q12. 오류와 예외 처리\n",
        "> 다음 코드의 실행 결과를 예측하고 그 이유에 대해 설명하시오.\n",
        "\n",
        "```\n",
        "result = 0\n",
        "\n",
        "try:\n",
        "    [1, 2, 3][3]\n",
        "    \"a\"+1\n",
        "    4 / 0\n",
        "except TypeError:\n",
        "    result += 1\n",
        "except ZeroDivisionError:\n",
        "    result += 2\n",
        "except IndexError:\n",
        "    result += 3\n",
        "finally:\n",
        "    result += 4\n",
        "\n",
        "print(result)\n",
        "```\n"
      ]
    },
    {
      "cell_type": "code",
      "metadata": {
        "id": "hDf0Js4KLOrl",
        "colab": {
          "base_uri": "https://localhost:8080/",
          "height": 35
        },
        "outputId": "57fb81ff-47e0-487c-cedc-a8a2b4e54589"
      },
      "source": [
        "# [Q12] Explain (코드와 주석으로 설명하시오)\n",
        "result = 0                  # result를 0으로 초기화\n",
        " \n",
        "try:\n",
        "    [1, 2, 3][3]            # [1,2,3][3]을 실행시 IndexError가 발생한다.\n",
        "    \"a\"+1                   # except IndexError:코드의 result += 3 을 실행하고 최종적으로\n",
        "    4 / 0                   # finally:구문에서 result += 4를 실행하므로 최종적으로 7이 출력되게 된다.\n",
        "except TypeError:\n",
        "    result += 1\n",
        "except ZeroDivisionError:\n",
        "    result += 2\n",
        "except IndexError:\n",
        "    result += 3\n",
        "finally:\n",
        "    result += 4\n",
        " \n",
        "print(result)"
      ],
      "execution_count": null,
      "outputs": [
        {
          "output_type": "stream",
          "text": [
            "7\n"
          ],
          "name": "stdout"
        }
      ]
    },
    {
      "cell_type": "markdown",
      "metadata": {
        "id": "x2IYgozSM3gd"
      },
      "source": [
        "## Q13. DashInsert 함수\n",
        "> DashInsert 함수는 숫자로 구성된 문자열을 입력받은 뒤 문자열 안에서 홀수가 연속되면 두 수 사이에 - 를 추가하고, 짝수가 연속되면 * 를 추가하는 기능을 갖고 있다. DashInsert 함수를 완성하시오.\n",
        "```\n",
        "입력 예시: 4546793\n",
        "출력 예시: 454*67-9-3\n",
        "```\n"
      ]
    },
    {
      "cell_type": "code",
      "metadata": {
        "id": "FiKNOu9HM3DX",
        "colab": {
          "base_uri": "https://localhost:8080/",
          "height": 53
        },
        "outputId": "56345710-aec1-442a-8304-643fff6742dc"
      },
      "source": [
        "# [Q13] Code-1\n",
        "user_input = input(\"숫자를 입력하세요.\")\n",
        "numbers = list(map(int, user_input))   # 숫자 문자열을 숫자 리스트로 변경\n",
        "result = []\n",
        "\n",
        "for i, num in enumerate(numbers):   # i:0 num:4\n",
        "    result.append(str(num))         # result에 숫자 추가\n",
        "    if i < len(numbers)-1:                   # 다음 수가 있다면\n",
        "        is_odd = num % 2 == 1                # 현재 수가 홀수\n",
        "        is_next_odd = numbers[i+1] % 2 == 1  # 다음 수가 홀수\n",
        "        if is_odd and is_next_odd:           # 연속 홀수\n",
        "            result.append(\"-\")\n",
        "        elif not is_odd and not is_next_odd: # 연속 짝수\n",
        "            result.append(\"*\")\n",
        "\n",
        "print(\"\".join(result))"
      ],
      "execution_count": null,
      "outputs": [
        {
          "output_type": "stream",
          "text": [
            "숫자를 입력하세요.4546793\n",
            "454*67-9-3\n"
          ],
          "name": "stdout"
        }
      ]
    },
    {
      "cell_type": "code",
      "metadata": {
        "id": "d_hmy1RZLqBg",
        "colab": {
          "base_uri": "https://localhost:8080/",
          "height": 53
        },
        "outputId": "6a309161-94e1-4008-ee3a-9a0ee827b508"
      },
      "source": [
        "# [Q13] Code-2\n",
        "user_input = input(\"숫자를 입력하세요.\")\n",
        "listnumbers = list(map(int, user_input))   # 숫자 문자열을 숫자 리스트로 변경\n",
        "result = []\n",
        "def time_table(numbers):\n",
        "  for i, num in enumerate(numbers):   # i:0 num:4\n",
        "    result.append(str(num))         # result에 숫자 추가\n",
        "    if i < len(numbers)-1:                   # 다음 수가 있다면\n",
        "        is_odd = num % 2 == 1                # 현재 수가 홀수\n",
        "        is_next_odd = numbers[i+1] % 2 == 1  # 다음 수가 홀수\n",
        "        if is_odd and is_next_odd:           # 연속 홀수\n",
        "            result.append(\"-\")\n",
        "        elif not is_odd and not is_next_odd: # 연속 짝수\n",
        "            result.append(\"*\")\n",
        "\n",
        "time_table(listnumbers)\n",
        "print(\"\".join(result))"
      ],
      "execution_count": null,
      "outputs": [
        {
          "output_type": "stream",
          "text": [
            "숫자를 입력하세요.4546793\n",
            "454*67-9-3\n"
          ],
          "name": "stdout"
        }
      ]
    },
    {
      "cell_type": "markdown",
      "metadata": {
        "id": "HDbz71sNL2Qt"
      },
      "source": [
        "## Q14. 문자열 압축하기\n",
        "> 문자열을 입력받아 같은 문자가 연속적으로 반복되는 경우에 그 반복 횟수를 표시해 문자열을 압축하여 표시하시오.\n",
        "```\n",
        "입력 예시: aaabbcccccca\n",
        "출력 예시: a3b2c6a1\n",
        "```\n",
        "\n"
      ]
    },
    {
      "cell_type": "code",
      "metadata": {
        "id": "Hs88sVjjL2Qw",
        "colab": {
          "base_uri": "https://localhost:8080/",
          "height": 53
        },
        "outputId": "964bde1d-9836-4de6-a285-dda388055b3e"
      },
      "source": [
        "# [Q14] Code-1\n",
        "user_input = input(\"문자열을 입력하세요.:\")\n",
        "def string(s):\n",
        "    _c = \"\"\n",
        "    cnt = 0\n",
        "    result = \"\"\n",
        "    for c in s:\n",
        "        if c!=_c:                        # 처음 들어온 문자일경우\n",
        "            _c = c\n",
        "            if cnt: result += str(cnt)   \n",
        "            result += c                   \n",
        "            cnt = 1                      # 카운트를 1로 초기화\n",
        "        else: cnt +=1                    # 한번 들어왔던 문자일 경우 카운트\n",
        "    if cnt: result += str(cnt)           \n",
        "    return result\n",
        "\n",
        "string(user_input)"
      ],
      "execution_count": null,
      "outputs": [
        {
          "output_type": "stream",
          "text": [
            "문자열을 입력하세요.:aaabbcccccca\n"
          ],
          "name": "stdout"
        },
        {
          "output_type": "execute_result",
          "data": {
            "text/plain": [
              "'a3b2c6a1'"
            ]
          },
          "metadata": {
            "tags": []
          },
          "execution_count": 245
        }
      ]
    },
    {
      "cell_type": "code",
      "metadata": {
        "id": "XF4F0DW0L2Q1",
        "colab": {
          "base_uri": "https://localhost:8080/",
          "height": 53
        },
        "outputId": "8e318456-15ec-4f32-d963-7b323d0c7c88"
      },
      "source": [
        "# [Q14] Code-2\n",
        "user_input = input(\"문자열을 입력하세요.:\")\n",
        "def zip(string):\n",
        "    count = 0   # 문자를 세기 위한 변수\n",
        "    check = \"\"   # sentence가 달라지는 곳을 감지하는 수단\n",
        "    result = \"\" # 결과를 저장하는 공간\n",
        "    for i in string:\n",
        "        if check != i:\n",
        "            check = i\n",
        "            if count:\n",
        "                result += str(count)\n",
        "            result += i\n",
        "            count = 1\n",
        "        else:\n",
        "            count += 1\n",
        "    if count:\n",
        "        result += str(count)\n",
        "    return result\n",
        "\n",
        "zip(user_input)"
      ],
      "execution_count": null,
      "outputs": [
        {
          "output_type": "stream",
          "text": [
            "문자열을 입력하세요.:aaabbcccccca\n"
          ],
          "name": "stdout"
        },
        {
          "output_type": "execute_result",
          "data": {
            "text/plain": [
              "'a3b2c6a1'"
            ]
          },
          "metadata": {
            "tags": []
          },
          "execution_count": 211
        }
      ]
    },
    {
      "cell_type": "markdown",
      "metadata": {
        "id": "tCF274jtL3Vk"
      },
      "source": [
        "## Q15. Duplicate Numbers\n",
        "> 0 ~ 9의 문자로 된 숫자를 입력받았을 때, 이 입력값이 0 ~ 9의 모든 숫자를 각각 한 번씩만 사용한 것인지 확인하는 함수를 작성하시오.\n",
        "```\n",
        "입력 예시: 0123456789 01234 01234567890 6789012345 012322456789\n",
        "출력 예시: true false false true false\n",
        "```\n"
      ]
    },
    {
      "cell_type": "code",
      "metadata": {
        "id": "3uQFw6jGL3Vm",
        "colab": {
          "base_uri": "https://localhost:8080/",
          "height": 107
        },
        "outputId": "7029bae8-f227-4945-b516-188b3d75932b"
      },
      "source": [
        "# [Q15] Code-1\n",
        "def checkNumber(s):\n",
        "    result = []                  # 리스트 초기화\n",
        "    for num in s:\n",
        "        if num not in result:    # 리스트의 값이 중복되는지 조사\n",
        "            result.append(num)   # 리스트에 num 추가\n",
        "        else:\n",
        "            return False         # 아닐 경우 거짓 반환\n",
        "    return len(result) == 10     # result 리스트내에 문자가 10개 있을 경우 true 반환\n",
        "\n",
        "print(checkNumber(\"0123456789\"))      \n",
        "print(checkNumber(\"01234\"))           \n",
        "print(checkNumber(\"01234567890\"))     \n",
        "print(checkNumber(\"6789012345\"))      \n",
        "print(checkNumber(\"012322456789\"))"
      ],
      "execution_count": null,
      "outputs": [
        {
          "output_type": "stream",
          "text": [
            "True\n",
            "False\n",
            "False\n",
            "True\n",
            "False\n"
          ],
          "name": "stdout"
        }
      ]
    },
    {
      "cell_type": "code",
      "metadata": {
        "id": "Bdt_UGgZL3Vr",
        "colab": {
          "base_uri": "https://localhost:8080/",
          "height": 53
        },
        "outputId": "c0b82a07-b001-47ea-e5f9-d161392e34b7"
      },
      "source": [
        "# [Q15] Code-2\n",
        "input_list = \"0123456789 01234 01234567890 6789012345 012322456789\"\n",
        "\n",
        "for input in input_list.split(\" \"):\n",
        "    if len(input) != 10 or len(input) != len(set(input)):\n",
        "        print(\"False\")\n",
        "    else:\n",
        "        print(\"True\")"
      ],
      "execution_count": null,
      "outputs": [
        {
          "output_type": "stream",
          "text": [
            "숫자를 입력하세요.:0123456789\n"
          ],
          "name": "stdout"
        },
        {
          "output_type": "execute_result",
          "data": {
            "text/plain": [
              "True"
            ]
          },
          "metadata": {
            "tags": []
          },
          "execution_count": 228
        }
      ]
    },
    {
      "cell_type": "code",
      "metadata": {
        "id": "KQ_Yc63Qm7Z-",
        "colab": {
          "base_uri": "https://localhost:8080/",
          "height": 197
        },
        "outputId": "185c0de2-4e5c-47b1-d4db-8bef2ec17faa"
      },
      "source": [
        "# [Q15] Code-3\n",
        "b = 0\n",
        "while b<5: # 5번 반복\n",
        "  b += 1\n",
        "  a = input(\"0~9 사이의 숫자로 이루어진 문자열 입력 : \")\n",
        "  print('true' if len(a) == len(set(a)) == 10  else 'false') # 입력 받은 숫자의 수가 10개인 상태에서\n",
        "                                                             # a에서 중복하는 숫자를 제외(set(a))\n",
        "                                                             # 한 a의 개수가 10개일때 true 출력"
      ],
      "execution_count": null,
      "outputs": [
        {
          "output_type": "stream",
          "text": [
            "0~9 사이의 숫자로 이루어진 문자열 입력 : 0123456789\n",
            "true\n",
            "0~9 사이의 숫자로 이루어진 문자열 입력 : 01234\n",
            "false\n",
            "0~9 사이의 숫자로 이루어진 문자열 입력 : 01234567890\n",
            "false\n",
            "0~9 사이의 숫자로 이루어진 문자열 입력 : 6789012345\n",
            "true\n",
            "0~9 사이의 숫자로 이루어진 문자열 입력 : 012322456789\n",
            "false\n"
          ],
          "name": "stdout"
        }
      ]
    },
    {
      "cell_type": "markdown",
      "metadata": {
        "id": "QdPWKi1gL4UE"
      },
      "source": [
        "## Q16. 모스 부호 해독\n",
        "> 문자열 형식으로 입력받은 모스 부호(dot:. dash:-)를 해독하여 영어 문장으로 출력하는 프로그램을 작성하시오.\n",
        "\n",
        "- 글자와 글자 사이는 공백 1개, 단어와 단어 사이는 공백 2개로 구분한다.\n",
        "- 예를 들어 다음 모스 부호는 \"HE SLEEPS EARLY\"로 해석해야 한다.\n",
        "```\n",
        ".... .  ... .-.. . . .--. ...  . .- .-. .-.. -.--\n",
        "```\n",
        "> 모스부호 규칙 표\n",
        "```\n",
        "문자 부호\t문자   부호\n",
        "A\t .-\t    N\t    -.\n",
        "B\t -...\tO\t    ---\n",
        "C\t -.-.\tP\t    .--.\n",
        "D\t -..\tQ\t    --.-\n",
        "E\t .\t    R\t    .-.\n",
        "F\t ..-.\tS\t    ...\n",
        "G\t --.\tT\t    -\n",
        "H\t ....\tU\t    ..-\n",
        "I\t ..\t    V\t    ...-\n",
        "J\t .---\tW\t    .--\n",
        "K\t -.-\tX\t    -..-\n",
        "L\t .-..\tY\t    -.--\n",
        "M\t --\t    Z\t    --..\n",
        "```"
      ]
    },
    {
      "cell_type": "code",
      "metadata": {
        "id": "ciZbyRFrL4UF",
        "colab": {
          "base_uri": "https://localhost:8080/",
          "height": 35
        },
        "outputId": "f7c51dc0-2896-4cf3-fe77-020a468b4d01"
      },
      "source": [
        "# [Q16] Code-1\n",
        "dic = {\n",
        "    '.-':'A','-...':'B','-.-.':'C','-..':'D','.':'E','..-.':'F',\n",
        "    '--.':'G','....':'H','..':'I','.---':'J','-.-':'K','.-..':'L',\n",
        "    '--':'M','-.':'N','---':'O','.--.':'P','--.-':'Q','.-.':'R',\n",
        "    '...':'S','-':'T','..-':'U','...-':'V','.--':'W','-..-':'X',\n",
        "    '-.--':'Y','--..':'Z'\n",
        "}\n",
        "\n",
        "def mose(src):\n",
        "    result = []\n",
        "    for word in src.split(\"  \"):      # \"  \"을 기준으로 나눔\n",
        "        for char in word.split(\" \"):  # \" \"을 기준으로 나눔\n",
        "            result.append(dic[char])  # 위의 나눈 문자열을 dic에 대입 하여 result 리스트에 추가\n",
        "        result.append(\" \")            \n",
        "    return \"\".join(result)\n",
        "\n",
        "\n",
        "mose('.... .  ... .-.. . . .--. ...  . .- .-. .-.. -.--')"
      ],
      "execution_count": null,
      "outputs": [
        {
          "output_type": "execute_result",
          "data": {
            "text/plain": [
              "'HE SLEEPS EARLY '"
            ]
          },
          "metadata": {
            "tags": []
          },
          "execution_count": 230
        }
      ]
    },
    {
      "cell_type": "code",
      "metadata": {
        "id": "x9-Qq3mVL4UJ",
        "colab": {
          "base_uri": "https://localhost:8080/",
          "height": 35
        },
        "outputId": "36fbb0ea-8a8b-4fb4-e2b1-42fa7cb60146"
      },
      "source": [
        "# [Q16] Code-2\n",
        "dic = {\n",
        "    '.-':'A','-...':'B','-.-.':'C','-..':'D','.':'E','..-.':'F',\n",
        "    '--.':'G','....':'H','..':'I','.---':'J','-.-':'K','.-..':'L',\n",
        "    '--':'M','-.':'N','---':'O','.--.':'P','--.-':'Q','.-.':'R',\n",
        "    '...':'S','-':'T','..-':'U','...-':'V','.--':'W','-..-':'X',\n",
        "    '-.--':'Y','--..':'Z'\n",
        "}\n",
        "mose = '.... .  ... .-.. . . .--. ...  . .- .-. .-.. -.--'\n",
        "code = mose.split(' ')\n",
        "\n",
        "for n in code:\n",
        "    if n =='':\n",
        "        print(' ', end=\"\")\n",
        "    else:\n",
        "        print(dic[n], end=\"\")"
      ],
      "execution_count": null,
      "outputs": [
        {
          "output_type": "stream",
          "text": [
            "HE SLEEPS EARLY"
          ],
          "name": "stdout"
        }
      ]
    },
    {
      "cell_type": "markdown",
      "metadata": {
        "id": "om4sRiRhMosn"
      },
      "source": [
        "\n",
        "\n",
        "---\n",
        "\n",
        "# 다음 정규식 문제는 기말고사 후에 도전해 보세요."
      ]
    },
    {
      "cell_type": "markdown",
      "metadata": {
        "id": "nazB2KXYOm5R"
      },
      "source": [
        "## Regular Expression\n",
        "- import re"
      ]
    },
    {
      "cell_type": "markdown",
      "metadata": {
        "id": "AN8kEO30L5NE"
      },
      "source": [
        "## Q17. 기초 메타 문자\n",
        "> 다음 중 정규식 a[.]{3,}b과 매치되는 문자열은 무엇일까?\n",
        "\n",
        "\n",
        "```\n",
        "acccb\n",
        "a....b\n",
        "aaab\n",
        "a.cccb\n",
        "```\n"
      ]
    },
    {
      "cell_type": "code",
      "metadata": {
        "id": "uKQWoUqhL5NG",
        "colab": {
          "base_uri": "https://localhost:8080/"
        },
        "outputId": "13cdb8ce-31d3-46b1-e451-a0b6805bb068"
      },
      "source": [
        "# [Q17] Code\n",
        "import re\n",
        "\n",
        "p = re.compile(\"a[.]{3,}b\")\n",
        "\n",
        "print (p.match(\"acccb\"))    # None\n",
        "print (p.match(\"a....b\"))   # 매치 객체 출력\n",
        "print (p.match(\"aaab\"))     # None\n",
        "print (p.match(\"a.cccb\"))   # None\n"
      ],
      "execution_count": null,
      "outputs": [
        {
          "output_type": "stream",
          "text": [
            "None\n",
            "<re.Match object; span=(0, 6), match='a....b'>\n",
            "None\n",
            "None\n"
          ],
          "name": "stdout"
        }
      ]
    },
    {
      "cell_type": "markdown",
      "metadata": {
        "id": "0dEWfwATL6DE"
      },
      "source": [
        "## Q18. 문자열 검색\n",
        "> 다음 코드의 결괏값은 무엇일까?\n",
        "\n",
        "```\n",
        ">>> import re\n",
        ">>> p = re.compile(\"[a-z]+\")\n",
        ">>> m = p.search(\"5 python\")\n",
        ">>> m.start() + m.end()\n",
        "```\n"
      ]
    },
    {
      "cell_type": "code",
      "metadata": {
        "id": "Ip11Dmo7L6DH",
        "colab": {
          "base_uri": "https://localhost:8080/"
        },
        "outputId": "54626c59-3fe3-401c-825b-352c8264d386"
      },
      "source": [
        "# [Q18] Code\n",
        "import re\n",
        "\n",
        "p = re.compile('[a-z]+')\n",
        "m = p.search(\"5 python\")\n",
        "print(m.start() + m.end())  # 10 출력\n"
      ],
      "execution_count": null,
      "outputs": [
        {
          "output_type": "stream",
          "text": [
            "10\n"
          ],
          "name": "stdout"
        }
      ]
    },
    {
      "cell_type": "markdown",
      "metadata": {
        "id": "8QizaqrUL62E"
      },
      "source": [
        "## Q19. 그루핑\n",
        "> 다음과 같은 문자열에서 휴대폰 번호 뒷자리인 숫자 4개를 ####로 바꾸는 프로그램을 정규식을 사용하여 작성하시오.\n",
        "\n",
        "```\n",
        "park 010-9999-9988\n",
        "kim 010-9909-7789\n",
        "lee 010-8789-7768\n",
        "```\n"
      ]
    },
    {
      "cell_type": "code",
      "metadata": {
        "id": "bfRvchIlL62H",
        "colab": {
          "base_uri": "https://localhost:8080/"
        },
        "outputId": "77c3b037-4495-4a37-a375-470b77367454"
      },
      "source": [
        "# [Q19] Code\n",
        "pat = re.compile(\"\\d{3}[-]\\d{4}[-]\\d{4}\")\n",
        "pat = re.compile(\"(\\d{3}[-]\\d{4})[-]\\d{4}\")\n",
        "\n",
        "import re\n",
        "\n",
        "s = \"\"\"\n",
        "park 010-9999-9988\n",
        "kim 010-9909-7789\n",
        "lee 010-8789-7768\n",
        "\"\"\"\n",
        "\n",
        "pat = re.compile(\"(\\d{3}[-]\\d{4})[-]\\d{4}\")\n",
        "result = pat.sub(\"\\g<1>-####\", s)\n",
        "\n",
        "print(result)"
      ],
      "execution_count": null,
      "outputs": [
        {
          "output_type": "stream",
          "text": [
            "\n",
            "park 010-9999-####\n",
            "kim 010-9909-####\n",
            "lee 010-8789-####\n",
            "\n"
          ],
          "name": "stdout"
        }
      ]
    },
    {
      "cell_type": "markdown",
      "metadata": {
        "id": "0DumiUQoL7jk"
      },
      "source": [
        "## Q20. 전방 탐색\n",
        "> 다음은 이메일 주소를 나타내는 정규식이다. 이 정규식은 park@naver.com, kim@daum.net, lee@myhome.co.kr 등과 매치된다. 긍정형 전방 탐색 기법을 사용하여 .com, .net이 아닌 이메일 주소는 제외시키는 정규식을 작성하시오.\n",
        "\n",
        "```\n",
        ".*[@].*[.].*$\n",
        "```\n"
      ]
    },
    {
      "cell_type": "code",
      "metadata": {
        "id": "9S9UUOkFL7jl",
        "colab": {
          "base_uri": "https://localhost:8080/"
        },
        "outputId": "9feeeec4-103f-4013-e0fb-e014f4cf3c96"
      },
      "source": [
        "# [Q20] Code\n",
        "pat = re.compile(\".*[@].*[.](?=com$|net$).*$\")\n",
        "\n",
        "import re\n",
        "\n",
        "pat = re.compile(\".*[@].*[.](?=com$|net$).*$\")\n",
        "\n",
        "print(pat.match(\"pahkey@gmail.com\"))\n",
        "print(pat.match(\"kim@daum.net\"))\n",
        "print(pat.match(\"lee@myhome.co.kr\"))\n"
      ],
      "execution_count": null,
      "outputs": [
        {
          "output_type": "stream",
          "text": [
            "<re.Match object; span=(0, 16), match='pahkey@gmail.com'>\n",
            "<re.Match object; span=(0, 12), match='kim@daum.net'>\n",
            "None\n"
          ],
          "name": "stdout"
        }
      ]
    },
    {
      "cell_type": "markdown",
      "metadata": {
        "id": "2ljBDShkbqZO"
      },
      "source": [
        "## 코딩 연습 결과를 github에 올리기\n",
        "> 완성된 ipython 노트북 파일을 각자의 github에 올리시오.\n",
        "\n",
        "- github 계정 만들기 (계정이 없는 학생)\n",
        "    1. github에 sign up (Google gmail 계정을 이용해서 만드시오.)\n",
        "- github에 노트 올리기\n",
        "    2. github에 각자의 id로 repo를 만드시오. (한번 만들면 계속 재사용)\n",
        "    3. github repo에 연습결과 노트를 올리시오.\n",
        "        - 제출노트: ch8_exercises_id.ipynb\n"
      ]
    },
    {
      "cell_type": "code",
      "metadata": {
        "id": "OnCR-YNCc8B6"
      },
      "source": [
        ""
      ],
      "execution_count": null,
      "outputs": []
    }
  ]
}